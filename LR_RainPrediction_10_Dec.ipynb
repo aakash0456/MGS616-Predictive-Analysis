{
  "nbformat": 4,
  "nbformat_minor": 0,
  "metadata": {
    "colab": {
      "provenance": []
    },
    "kernelspec": {
      "name": "python3",
      "display_name": "Python 3"
    },
    "language_info": {
      "name": "python"
    },
    "gpuClass": "standard"
  },
  "cells": [
    {
      "cell_type": "code",
      "execution_count": null,
      "metadata": {
        "colab": {
          "base_uri": "https://localhost:8080/",
          "height": 289
        },
        "id": "3pR-TqunNMkk",
        "outputId": "1a2d54b7-61e1-4027-dfce-dd056ef7d793"
      },
      "outputs": [
        {
          "output_type": "execute_result",
          "data": {
            "text/plain": [
              "         Date Location  MinTemp  MaxTemp  Rainfall  Evaporation  Sunshine  \\\n",
              "0  2008-12-01   Albury     13.4     22.9       0.6          NaN       NaN   \n",
              "1  2008-12-02   Albury      7.4     25.1       0.0          NaN       NaN   \n",
              "2  2008-12-03   Albury     12.9     25.7       0.0          NaN       NaN   \n",
              "\n",
              "  WindGustDir  WindGustSpeed WindDir9am  ... Humidity9am  Humidity3pm  \\\n",
              "0           W           44.0          W  ...        71.0         22.0   \n",
              "1         WNW           44.0        NNW  ...        44.0         25.0   \n",
              "2         WSW           46.0          W  ...        38.0         30.0   \n",
              "\n",
              "   Pressure9am  Pressure3pm  Cloud9am  Cloud3pm  Temp9am  Temp3pm  RainToday  \\\n",
              "0       1007.7       1007.1       8.0       NaN     16.9     21.8         No   \n",
              "1       1010.6       1007.8       NaN       NaN     17.2     24.3         No   \n",
              "2       1007.6       1008.7       NaN       2.0     21.0     23.2         No   \n",
              "\n",
              "   RainTomorrow  \n",
              "0            No  \n",
              "1            No  \n",
              "2            No  \n",
              "\n",
              "[3 rows x 23 columns]"
            ],
            "text/html": [
              "\n",
              "  <div id=\"df-6d2f14ce-3472-46ae-b7ce-b17a5851a03b\">\n",
              "    <div class=\"colab-df-container\">\n",
              "      <div>\n",
              "<style scoped>\n",
              "    .dataframe tbody tr th:only-of-type {\n",
              "        vertical-align: middle;\n",
              "    }\n",
              "\n",
              "    .dataframe tbody tr th {\n",
              "        vertical-align: top;\n",
              "    }\n",
              "\n",
              "    .dataframe thead th {\n",
              "        text-align: right;\n",
              "    }\n",
              "</style>\n",
              "<table border=\"1\" class=\"dataframe\">\n",
              "  <thead>\n",
              "    <tr style=\"text-align: right;\">\n",
              "      <th></th>\n",
              "      <th>Date</th>\n",
              "      <th>Location</th>\n",
              "      <th>MinTemp</th>\n",
              "      <th>MaxTemp</th>\n",
              "      <th>Rainfall</th>\n",
              "      <th>Evaporation</th>\n",
              "      <th>Sunshine</th>\n",
              "      <th>WindGustDir</th>\n",
              "      <th>WindGustSpeed</th>\n",
              "      <th>WindDir9am</th>\n",
              "      <th>...</th>\n",
              "      <th>Humidity9am</th>\n",
              "      <th>Humidity3pm</th>\n",
              "      <th>Pressure9am</th>\n",
              "      <th>Pressure3pm</th>\n",
              "      <th>Cloud9am</th>\n",
              "      <th>Cloud3pm</th>\n",
              "      <th>Temp9am</th>\n",
              "      <th>Temp3pm</th>\n",
              "      <th>RainToday</th>\n",
              "      <th>RainTomorrow</th>\n",
              "    </tr>\n",
              "  </thead>\n",
              "  <tbody>\n",
              "    <tr>\n",
              "      <th>0</th>\n",
              "      <td>2008-12-01</td>\n",
              "      <td>Albury</td>\n",
              "      <td>13.4</td>\n",
              "      <td>22.9</td>\n",
              "      <td>0.6</td>\n",
              "      <td>NaN</td>\n",
              "      <td>NaN</td>\n",
              "      <td>W</td>\n",
              "      <td>44.0</td>\n",
              "      <td>W</td>\n",
              "      <td>...</td>\n",
              "      <td>71.0</td>\n",
              "      <td>22.0</td>\n",
              "      <td>1007.7</td>\n",
              "      <td>1007.1</td>\n",
              "      <td>8.0</td>\n",
              "      <td>NaN</td>\n",
              "      <td>16.9</td>\n",
              "      <td>21.8</td>\n",
              "      <td>No</td>\n",
              "      <td>No</td>\n",
              "    </tr>\n",
              "    <tr>\n",
              "      <th>1</th>\n",
              "      <td>2008-12-02</td>\n",
              "      <td>Albury</td>\n",
              "      <td>7.4</td>\n",
              "      <td>25.1</td>\n",
              "      <td>0.0</td>\n",
              "      <td>NaN</td>\n",
              "      <td>NaN</td>\n",
              "      <td>WNW</td>\n",
              "      <td>44.0</td>\n",
              "      <td>NNW</td>\n",
              "      <td>...</td>\n",
              "      <td>44.0</td>\n",
              "      <td>25.0</td>\n",
              "      <td>1010.6</td>\n",
              "      <td>1007.8</td>\n",
              "      <td>NaN</td>\n",
              "      <td>NaN</td>\n",
              "      <td>17.2</td>\n",
              "      <td>24.3</td>\n",
              "      <td>No</td>\n",
              "      <td>No</td>\n",
              "    </tr>\n",
              "    <tr>\n",
              "      <th>2</th>\n",
              "      <td>2008-12-03</td>\n",
              "      <td>Albury</td>\n",
              "      <td>12.9</td>\n",
              "      <td>25.7</td>\n",
              "      <td>0.0</td>\n",
              "      <td>NaN</td>\n",
              "      <td>NaN</td>\n",
              "      <td>WSW</td>\n",
              "      <td>46.0</td>\n",
              "      <td>W</td>\n",
              "      <td>...</td>\n",
              "      <td>38.0</td>\n",
              "      <td>30.0</td>\n",
              "      <td>1007.6</td>\n",
              "      <td>1008.7</td>\n",
              "      <td>NaN</td>\n",
              "      <td>2.0</td>\n",
              "      <td>21.0</td>\n",
              "      <td>23.2</td>\n",
              "      <td>No</td>\n",
              "      <td>No</td>\n",
              "    </tr>\n",
              "  </tbody>\n",
              "</table>\n",
              "<p>3 rows × 23 columns</p>\n",
              "</div>\n",
              "      <button class=\"colab-df-convert\" onclick=\"convertToInteractive('df-6d2f14ce-3472-46ae-b7ce-b17a5851a03b')\"\n",
              "              title=\"Convert this dataframe to an interactive table.\"\n",
              "              style=\"display:none;\">\n",
              "        \n",
              "  <svg xmlns=\"http://www.w3.org/2000/svg\" height=\"24px\"viewBox=\"0 0 24 24\"\n",
              "       width=\"24px\">\n",
              "    <path d=\"M0 0h24v24H0V0z\" fill=\"none\"/>\n",
              "    <path d=\"M18.56 5.44l.94 2.06.94-2.06 2.06-.94-2.06-.94-.94-2.06-.94 2.06-2.06.94zm-11 1L8.5 8.5l.94-2.06 2.06-.94-2.06-.94L8.5 2.5l-.94 2.06-2.06.94zm10 10l.94 2.06.94-2.06 2.06-.94-2.06-.94-.94-2.06-.94 2.06-2.06.94z\"/><path d=\"M17.41 7.96l-1.37-1.37c-.4-.4-.92-.59-1.43-.59-.52 0-1.04.2-1.43.59L10.3 9.45l-7.72 7.72c-.78.78-.78 2.05 0 2.83L4 21.41c.39.39.9.59 1.41.59.51 0 1.02-.2 1.41-.59l7.78-7.78 2.81-2.81c.8-.78.8-2.07 0-2.86zM5.41 20L4 18.59l7.72-7.72 1.47 1.35L5.41 20z\"/>\n",
              "  </svg>\n",
              "      </button>\n",
              "      \n",
              "  <style>\n",
              "    .colab-df-container {\n",
              "      display:flex;\n",
              "      flex-wrap:wrap;\n",
              "      gap: 12px;\n",
              "    }\n",
              "\n",
              "    .colab-df-convert {\n",
              "      background-color: #E8F0FE;\n",
              "      border: none;\n",
              "      border-radius: 50%;\n",
              "      cursor: pointer;\n",
              "      display: none;\n",
              "      fill: #1967D2;\n",
              "      height: 32px;\n",
              "      padding: 0 0 0 0;\n",
              "      width: 32px;\n",
              "    }\n",
              "\n",
              "    .colab-df-convert:hover {\n",
              "      background-color: #E2EBFA;\n",
              "      box-shadow: 0px 1px 2px rgba(60, 64, 67, 0.3), 0px 1px 3px 1px rgba(60, 64, 67, 0.15);\n",
              "      fill: #174EA6;\n",
              "    }\n",
              "\n",
              "    [theme=dark] .colab-df-convert {\n",
              "      background-color: #3B4455;\n",
              "      fill: #D2E3FC;\n",
              "    }\n",
              "\n",
              "    [theme=dark] .colab-df-convert:hover {\n",
              "      background-color: #434B5C;\n",
              "      box-shadow: 0px 1px 3px 1px rgba(0, 0, 0, 0.15);\n",
              "      filter: drop-shadow(0px 1px 2px rgba(0, 0, 0, 0.3));\n",
              "      fill: #FFFFFF;\n",
              "    }\n",
              "  </style>\n",
              "\n",
              "      <script>\n",
              "        const buttonEl =\n",
              "          document.querySelector('#df-6d2f14ce-3472-46ae-b7ce-b17a5851a03b button.colab-df-convert');\n",
              "        buttonEl.style.display =\n",
              "          google.colab.kernel.accessAllowed ? 'block' : 'none';\n",
              "\n",
              "        async function convertToInteractive(key) {\n",
              "          const element = document.querySelector('#df-6d2f14ce-3472-46ae-b7ce-b17a5851a03b');\n",
              "          const dataTable =\n",
              "            await google.colab.kernel.invokeFunction('convertToInteractive',\n",
              "                                                     [key], {});\n",
              "          if (!dataTable) return;\n",
              "\n",
              "          const docLinkHtml = 'Like what you see? Visit the ' +\n",
              "            '<a target=\"_blank\" href=https://colab.research.google.com/notebooks/data_table.ipynb>data table notebook</a>'\n",
              "            + ' to learn more about interactive tables.';\n",
              "          element.innerHTML = '';\n",
              "          dataTable['output_type'] = 'display_data';\n",
              "          await google.colab.output.renderOutput(dataTable, element);\n",
              "          const docLink = document.createElement('div');\n",
              "          docLink.innerHTML = docLinkHtml;\n",
              "          element.appendChild(docLink);\n",
              "        }\n",
              "      </script>\n",
              "    </div>\n",
              "  </div>\n",
              "  "
            ]
          },
          "metadata": {},
          "execution_count": 1
        }
      ],
      "source": [
        "#import \n",
        "import seaborn as sns\n",
        "from sklearn.model_selection import validation_curve\n",
        "from sklearn.preprocessing import StandardScaler\n",
        "from sklearn.pipeline import make_pipeline\n",
        "from sklearn.linear_model import LogisticRegression\n",
        "from sklearn.model_selection import train_test_split\n",
        "import matplotlib.pyplot as plt\n",
        "from sklearn.metrics import confusion_matrix, ConfusionMatrixDisplay\n",
        "import random\n",
        "import os\n",
        "import time\n",
        "import math\n",
        "import pandas as pd\n",
        "import numpy as np\n",
        "from tqdm import tqdm\n",
        "import random\n",
        "from sklearn import metrics\n",
        "import seaborn as sns\n",
        "import tensorflow as tf\n",
        "from tensorflow import keras \n",
        "from sklearn.svm import SVC\n",
        "from keras import regularizers\n",
        "\n",
        "\n",
        "df = pd.read_csv('/content/weatherAUS.csv')\n",
        "df.head(3)\n"
      ]
    },
    {
      "cell_type": "code",
      "source": [
        "print('Size of data: ',len(df))\n",
        "#Eport file to see data\n",
        "# df.to_excel(r'Original_file.xlsx', index = False) "
      ],
      "metadata": {
        "colab": {
          "base_uri": "https://localhost:8080/"
        },
        "id": "jpahgdCF2htk",
        "outputId": "f5e7fd06-9126-4e8f-b7c6-00fafb3b68ab"
      },
      "execution_count": null,
      "outputs": [
        {
          "output_type": "stream",
          "name": "stdout",
          "text": [
            "Size of data:  145460\n"
          ]
        }
      ]
    },
    {
      "cell_type": "code",
      "source": [
        "# Dropping rows with Null value in the target variable and RainToday variable\n",
        "df.drop(df[pd.isnull(df['RainTomorrow'])].index, inplace=True)\n",
        "df.drop(df[pd.isnull(df['RainToday'])].index, inplace=True)\n",
        "df.head(3)\n"
      ],
      "metadata": {
        "colab": {
          "base_uri": "https://localhost:8080/",
          "height": 289
        },
        "id": "YvclVqIBNTuh",
        "outputId": "6e09e819-4084-40e0-f006-5deb45a5fb8a"
      },
      "execution_count": null,
      "outputs": [
        {
          "output_type": "execute_result",
          "data": {
            "text/plain": [
              "         Date Location  MinTemp  MaxTemp  Rainfall  Evaporation  Sunshine  \\\n",
              "0  2008-12-01   Albury     13.4     22.9       0.6          NaN       NaN   \n",
              "1  2008-12-02   Albury      7.4     25.1       0.0          NaN       NaN   \n",
              "2  2008-12-03   Albury     12.9     25.7       0.0          NaN       NaN   \n",
              "\n",
              "  WindGustDir  WindGustSpeed WindDir9am  ... Humidity9am  Humidity3pm  \\\n",
              "0           W           44.0          W  ...        71.0         22.0   \n",
              "1         WNW           44.0        NNW  ...        44.0         25.0   \n",
              "2         WSW           46.0          W  ...        38.0         30.0   \n",
              "\n",
              "   Pressure9am  Pressure3pm  Cloud9am  Cloud3pm  Temp9am  Temp3pm  RainToday  \\\n",
              "0       1007.7       1007.1       8.0       NaN     16.9     21.8         No   \n",
              "1       1010.6       1007.8       NaN       NaN     17.2     24.3         No   \n",
              "2       1007.6       1008.7       NaN       2.0     21.0     23.2         No   \n",
              "\n",
              "   RainTomorrow  \n",
              "0            No  \n",
              "1            No  \n",
              "2            No  \n",
              "\n",
              "[3 rows x 23 columns]"
            ],
            "text/html": [
              "\n",
              "  <div id=\"df-be6878a1-09cf-48c7-953e-b74e70efdf07\">\n",
              "    <div class=\"colab-df-container\">\n",
              "      <div>\n",
              "<style scoped>\n",
              "    .dataframe tbody tr th:only-of-type {\n",
              "        vertical-align: middle;\n",
              "    }\n",
              "\n",
              "    .dataframe tbody tr th {\n",
              "        vertical-align: top;\n",
              "    }\n",
              "\n",
              "    .dataframe thead th {\n",
              "        text-align: right;\n",
              "    }\n",
              "</style>\n",
              "<table border=\"1\" class=\"dataframe\">\n",
              "  <thead>\n",
              "    <tr style=\"text-align: right;\">\n",
              "      <th></th>\n",
              "      <th>Date</th>\n",
              "      <th>Location</th>\n",
              "      <th>MinTemp</th>\n",
              "      <th>MaxTemp</th>\n",
              "      <th>Rainfall</th>\n",
              "      <th>Evaporation</th>\n",
              "      <th>Sunshine</th>\n",
              "      <th>WindGustDir</th>\n",
              "      <th>WindGustSpeed</th>\n",
              "      <th>WindDir9am</th>\n",
              "      <th>...</th>\n",
              "      <th>Humidity9am</th>\n",
              "      <th>Humidity3pm</th>\n",
              "      <th>Pressure9am</th>\n",
              "      <th>Pressure3pm</th>\n",
              "      <th>Cloud9am</th>\n",
              "      <th>Cloud3pm</th>\n",
              "      <th>Temp9am</th>\n",
              "      <th>Temp3pm</th>\n",
              "      <th>RainToday</th>\n",
              "      <th>RainTomorrow</th>\n",
              "    </tr>\n",
              "  </thead>\n",
              "  <tbody>\n",
              "    <tr>\n",
              "      <th>0</th>\n",
              "      <td>2008-12-01</td>\n",
              "      <td>Albury</td>\n",
              "      <td>13.4</td>\n",
              "      <td>22.9</td>\n",
              "      <td>0.6</td>\n",
              "      <td>NaN</td>\n",
              "      <td>NaN</td>\n",
              "      <td>W</td>\n",
              "      <td>44.0</td>\n",
              "      <td>W</td>\n",
              "      <td>...</td>\n",
              "      <td>71.0</td>\n",
              "      <td>22.0</td>\n",
              "      <td>1007.7</td>\n",
              "      <td>1007.1</td>\n",
              "      <td>8.0</td>\n",
              "      <td>NaN</td>\n",
              "      <td>16.9</td>\n",
              "      <td>21.8</td>\n",
              "      <td>No</td>\n",
              "      <td>No</td>\n",
              "    </tr>\n",
              "    <tr>\n",
              "      <th>1</th>\n",
              "      <td>2008-12-02</td>\n",
              "      <td>Albury</td>\n",
              "      <td>7.4</td>\n",
              "      <td>25.1</td>\n",
              "      <td>0.0</td>\n",
              "      <td>NaN</td>\n",
              "      <td>NaN</td>\n",
              "      <td>WNW</td>\n",
              "      <td>44.0</td>\n",
              "      <td>NNW</td>\n",
              "      <td>...</td>\n",
              "      <td>44.0</td>\n",
              "      <td>25.0</td>\n",
              "      <td>1010.6</td>\n",
              "      <td>1007.8</td>\n",
              "      <td>NaN</td>\n",
              "      <td>NaN</td>\n",
              "      <td>17.2</td>\n",
              "      <td>24.3</td>\n",
              "      <td>No</td>\n",
              "      <td>No</td>\n",
              "    </tr>\n",
              "    <tr>\n",
              "      <th>2</th>\n",
              "      <td>2008-12-03</td>\n",
              "      <td>Albury</td>\n",
              "      <td>12.9</td>\n",
              "      <td>25.7</td>\n",
              "      <td>0.0</td>\n",
              "      <td>NaN</td>\n",
              "      <td>NaN</td>\n",
              "      <td>WSW</td>\n",
              "      <td>46.0</td>\n",
              "      <td>W</td>\n",
              "      <td>...</td>\n",
              "      <td>38.0</td>\n",
              "      <td>30.0</td>\n",
              "      <td>1007.6</td>\n",
              "      <td>1008.7</td>\n",
              "      <td>NaN</td>\n",
              "      <td>2.0</td>\n",
              "      <td>21.0</td>\n",
              "      <td>23.2</td>\n",
              "      <td>No</td>\n",
              "      <td>No</td>\n",
              "    </tr>\n",
              "  </tbody>\n",
              "</table>\n",
              "<p>3 rows × 23 columns</p>\n",
              "</div>\n",
              "      <button class=\"colab-df-convert\" onclick=\"convertToInteractive('df-be6878a1-09cf-48c7-953e-b74e70efdf07')\"\n",
              "              title=\"Convert this dataframe to an interactive table.\"\n",
              "              style=\"display:none;\">\n",
              "        \n",
              "  <svg xmlns=\"http://www.w3.org/2000/svg\" height=\"24px\"viewBox=\"0 0 24 24\"\n",
              "       width=\"24px\">\n",
              "    <path d=\"M0 0h24v24H0V0z\" fill=\"none\"/>\n",
              "    <path d=\"M18.56 5.44l.94 2.06.94-2.06 2.06-.94-2.06-.94-.94-2.06-.94 2.06-2.06.94zm-11 1L8.5 8.5l.94-2.06 2.06-.94-2.06-.94L8.5 2.5l-.94 2.06-2.06.94zm10 10l.94 2.06.94-2.06 2.06-.94-2.06-.94-.94-2.06-.94 2.06-2.06.94z\"/><path d=\"M17.41 7.96l-1.37-1.37c-.4-.4-.92-.59-1.43-.59-.52 0-1.04.2-1.43.59L10.3 9.45l-7.72 7.72c-.78.78-.78 2.05 0 2.83L4 21.41c.39.39.9.59 1.41.59.51 0 1.02-.2 1.41-.59l7.78-7.78 2.81-2.81c.8-.78.8-2.07 0-2.86zM5.41 20L4 18.59l7.72-7.72 1.47 1.35L5.41 20z\"/>\n",
              "  </svg>\n",
              "      </button>\n",
              "      \n",
              "  <style>\n",
              "    .colab-df-container {\n",
              "      display:flex;\n",
              "      flex-wrap:wrap;\n",
              "      gap: 12px;\n",
              "    }\n",
              "\n",
              "    .colab-df-convert {\n",
              "      background-color: #E8F0FE;\n",
              "      border: none;\n",
              "      border-radius: 50%;\n",
              "      cursor: pointer;\n",
              "      display: none;\n",
              "      fill: #1967D2;\n",
              "      height: 32px;\n",
              "      padding: 0 0 0 0;\n",
              "      width: 32px;\n",
              "    }\n",
              "\n",
              "    .colab-df-convert:hover {\n",
              "      background-color: #E2EBFA;\n",
              "      box-shadow: 0px 1px 2px rgba(60, 64, 67, 0.3), 0px 1px 3px 1px rgba(60, 64, 67, 0.15);\n",
              "      fill: #174EA6;\n",
              "    }\n",
              "\n",
              "    [theme=dark] .colab-df-convert {\n",
              "      background-color: #3B4455;\n",
              "      fill: #D2E3FC;\n",
              "    }\n",
              "\n",
              "    [theme=dark] .colab-df-convert:hover {\n",
              "      background-color: #434B5C;\n",
              "      box-shadow: 0px 1px 3px 1px rgba(0, 0, 0, 0.15);\n",
              "      filter: drop-shadow(0px 1px 2px rgba(0, 0, 0, 0.3));\n",
              "      fill: #FFFFFF;\n",
              "    }\n",
              "  </style>\n",
              "\n",
              "      <script>\n",
              "        const buttonEl =\n",
              "          document.querySelector('#df-be6878a1-09cf-48c7-953e-b74e70efdf07 button.colab-df-convert');\n",
              "        buttonEl.style.display =\n",
              "          google.colab.kernel.accessAllowed ? 'block' : 'none';\n",
              "\n",
              "        async function convertToInteractive(key) {\n",
              "          const element = document.querySelector('#df-be6878a1-09cf-48c7-953e-b74e70efdf07');\n",
              "          const dataTable =\n",
              "            await google.colab.kernel.invokeFunction('convertToInteractive',\n",
              "                                                     [key], {});\n",
              "          if (!dataTable) return;\n",
              "\n",
              "          const docLinkHtml = 'Like what you see? Visit the ' +\n",
              "            '<a target=\"_blank\" href=https://colab.research.google.com/notebooks/data_table.ipynb>data table notebook</a>'\n",
              "            + ' to learn more about interactive tables.';\n",
              "          element.innerHTML = '';\n",
              "          dataTable['output_type'] = 'display_data';\n",
              "          await google.colab.output.renderOutput(dataTable, element);\n",
              "          const docLink = document.createElement('div');\n",
              "          docLink.innerHTML = docLinkHtml;\n",
              "          element.appendChild(docLink);\n",
              "        }\n",
              "      </script>\n",
              "    </div>\n",
              "  </div>\n",
              "  "
            ]
          },
          "metadata": {},
          "execution_count": 3
        }
      ]
    },
    {
      "cell_type": "code",
      "source": [
        "print(' Size of data (number of rows left) after dropping columns with null values in RainToday and RainTomorrow variables:\\n Data size:',len(df))"
      ],
      "metadata": {
        "colab": {
          "base_uri": "https://localhost:8080/"
        },
        "id": "2m3p8yjt2pfT",
        "outputId": "0e306ac1-f8cc-4831-83df-75f4e957d45a"
      },
      "execution_count": null,
      "outputs": [
        {
          "output_type": "stream",
          "name": "stdout",
          "text": [
            " Size of data (number of rows left) after dropping columns with null values in RainToday and RainTomorrow variables:\n",
            " Data size: 140787\n"
          ]
        }
      ]
    },
    {
      "cell_type": "code",
      "source": [
        "# # Converting Categorical values to binary values in RainToday variable\n",
        "tmp = []\n",
        "for i in tqdm(range(len(df))):\n",
        "  if (df.iloc[i]['RainToday']) == 'Yes':\n",
        "    tmp.append(1)\n",
        "  else:\n",
        "    tmp.append(0)\n",
        "  \n",
        "rain_today = tmp\n",
        "# print((rain_today))"
      ],
      "metadata": {
        "colab": {
          "base_uri": "https://localhost:8080/"
        },
        "id": "ZZ4wTELKj2eK",
        "outputId": "09ff053f-45a5-4035-81f6-dd5c04fdb145"
      },
      "execution_count": null,
      "outputs": [
        {
          "output_type": "stream",
          "name": "stderr",
          "text": [
            "100%|██████████| 140787/140787 [00:23<00:00, 6029.83it/s]\n"
          ]
        }
      ]
    },
    {
      "cell_type": "code",
      "source": [],
      "metadata": {
        "id": "QHh8SzgylB1x"
      },
      "execution_count": null,
      "outputs": []
    },
    {
      "cell_type": "code",
      "source": [
        "# Converting Categorical values to binary values in Target/RainTomorrow variable\n",
        "tmp = []\n",
        "for i in tqdm(range(len(df))):\n",
        "  if (df.iloc[i]['RainTomorrow']) == 'Yes':\n",
        "    tmp.append(1)\n",
        "  else:\n",
        "    tmp.append(0)\n",
        "\n",
        "target = tmp\n",
        "# print((target))"
      ],
      "metadata": {
        "colab": {
          "base_uri": "https://localhost:8080/"
        },
        "id": "jvqraQGTlOgp",
        "outputId": "be64dff4-c046-4c17-9cfb-0e60ff1b50c7"
      },
      "execution_count": null,
      "outputs": [
        {
          "output_type": "stream",
          "name": "stderr",
          "text": [
            "100%|██████████| 140787/140787 [00:47<00:00, 2968.65it/s]\n"
          ]
        }
      ]
    },
    {
      "cell_type": "code",
      "source": [],
      "metadata": {
        "id": "9GESvqd_q92f"
      },
      "execution_count": null,
      "outputs": []
    },
    {
      "cell_type": "code",
      "source": [
        "#selecting variables or features for the model (select features that seems important/useful; like states/regions are dropped)\n",
        "rain = df[['MinTemp','MaxTemp','Rainfall','Evaporation','Sunshine','WindGustSpeed','WindSpeed9am','WindSpeed3pm','Humidity9am','Humidity3pm','Pressure9am','Pressure3pm','Cloud9am','Cloud3pm','Temp9am','Temp3pm']].copy()\n",
        "rain['RainToday'] = rain_today\n",
        "print('Number of records: ',len(rain))\n",
        "rain.head(3)"
      ],
      "metadata": {
        "colab": {
          "base_uri": "https://localhost:8080/",
          "height": 225
        },
        "id": "BAkOSgv8Nbuu",
        "outputId": "badd6ebb-bd2f-4c64-fd63-b96e8b00b289"
      },
      "execution_count": null,
      "outputs": [
        {
          "output_type": "stream",
          "name": "stdout",
          "text": [
            "Number of records:  140787\n"
          ]
        },
        {
          "output_type": "execute_result",
          "data": {
            "text/plain": [
              "   MinTemp  MaxTemp  Rainfall  Evaporation  Sunshine  WindGustSpeed  \\\n",
              "0     13.4     22.9       0.6          NaN       NaN           44.0   \n",
              "1      7.4     25.1       0.0          NaN       NaN           44.0   \n",
              "2     12.9     25.7       0.0          NaN       NaN           46.0   \n",
              "\n",
              "   WindSpeed9am  WindSpeed3pm  Humidity9am  Humidity3pm  Pressure9am  \\\n",
              "0          20.0          24.0         71.0         22.0       1007.7   \n",
              "1           4.0          22.0         44.0         25.0       1010.6   \n",
              "2          19.0          26.0         38.0         30.0       1007.6   \n",
              "\n",
              "   Pressure3pm  Cloud9am  Cloud3pm  Temp9am  Temp3pm  RainToday  \n",
              "0       1007.1       8.0       NaN     16.9     21.8          0  \n",
              "1       1007.8       NaN       NaN     17.2     24.3          0  \n",
              "2       1008.7       NaN       2.0     21.0     23.2          0  "
            ],
            "text/html": [
              "\n",
              "  <div id=\"df-a41e6e54-87d7-4074-af1b-abda0bc5bb38\">\n",
              "    <div class=\"colab-df-container\">\n",
              "      <div>\n",
              "<style scoped>\n",
              "    .dataframe tbody tr th:only-of-type {\n",
              "        vertical-align: middle;\n",
              "    }\n",
              "\n",
              "    .dataframe tbody tr th {\n",
              "        vertical-align: top;\n",
              "    }\n",
              "\n",
              "    .dataframe thead th {\n",
              "        text-align: right;\n",
              "    }\n",
              "</style>\n",
              "<table border=\"1\" class=\"dataframe\">\n",
              "  <thead>\n",
              "    <tr style=\"text-align: right;\">\n",
              "      <th></th>\n",
              "      <th>MinTemp</th>\n",
              "      <th>MaxTemp</th>\n",
              "      <th>Rainfall</th>\n",
              "      <th>Evaporation</th>\n",
              "      <th>Sunshine</th>\n",
              "      <th>WindGustSpeed</th>\n",
              "      <th>WindSpeed9am</th>\n",
              "      <th>WindSpeed3pm</th>\n",
              "      <th>Humidity9am</th>\n",
              "      <th>Humidity3pm</th>\n",
              "      <th>Pressure9am</th>\n",
              "      <th>Pressure3pm</th>\n",
              "      <th>Cloud9am</th>\n",
              "      <th>Cloud3pm</th>\n",
              "      <th>Temp9am</th>\n",
              "      <th>Temp3pm</th>\n",
              "      <th>RainToday</th>\n",
              "    </tr>\n",
              "  </thead>\n",
              "  <tbody>\n",
              "    <tr>\n",
              "      <th>0</th>\n",
              "      <td>13.4</td>\n",
              "      <td>22.9</td>\n",
              "      <td>0.6</td>\n",
              "      <td>NaN</td>\n",
              "      <td>NaN</td>\n",
              "      <td>44.0</td>\n",
              "      <td>20.0</td>\n",
              "      <td>24.0</td>\n",
              "      <td>71.0</td>\n",
              "      <td>22.0</td>\n",
              "      <td>1007.7</td>\n",
              "      <td>1007.1</td>\n",
              "      <td>8.0</td>\n",
              "      <td>NaN</td>\n",
              "      <td>16.9</td>\n",
              "      <td>21.8</td>\n",
              "      <td>0</td>\n",
              "    </tr>\n",
              "    <tr>\n",
              "      <th>1</th>\n",
              "      <td>7.4</td>\n",
              "      <td>25.1</td>\n",
              "      <td>0.0</td>\n",
              "      <td>NaN</td>\n",
              "      <td>NaN</td>\n",
              "      <td>44.0</td>\n",
              "      <td>4.0</td>\n",
              "      <td>22.0</td>\n",
              "      <td>44.0</td>\n",
              "      <td>25.0</td>\n",
              "      <td>1010.6</td>\n",
              "      <td>1007.8</td>\n",
              "      <td>NaN</td>\n",
              "      <td>NaN</td>\n",
              "      <td>17.2</td>\n",
              "      <td>24.3</td>\n",
              "      <td>0</td>\n",
              "    </tr>\n",
              "    <tr>\n",
              "      <th>2</th>\n",
              "      <td>12.9</td>\n",
              "      <td>25.7</td>\n",
              "      <td>0.0</td>\n",
              "      <td>NaN</td>\n",
              "      <td>NaN</td>\n",
              "      <td>46.0</td>\n",
              "      <td>19.0</td>\n",
              "      <td>26.0</td>\n",
              "      <td>38.0</td>\n",
              "      <td>30.0</td>\n",
              "      <td>1007.6</td>\n",
              "      <td>1008.7</td>\n",
              "      <td>NaN</td>\n",
              "      <td>2.0</td>\n",
              "      <td>21.0</td>\n",
              "      <td>23.2</td>\n",
              "      <td>0</td>\n",
              "    </tr>\n",
              "  </tbody>\n",
              "</table>\n",
              "</div>\n",
              "      <button class=\"colab-df-convert\" onclick=\"convertToInteractive('df-a41e6e54-87d7-4074-af1b-abda0bc5bb38')\"\n",
              "              title=\"Convert this dataframe to an interactive table.\"\n",
              "              style=\"display:none;\">\n",
              "        \n",
              "  <svg xmlns=\"http://www.w3.org/2000/svg\" height=\"24px\"viewBox=\"0 0 24 24\"\n",
              "       width=\"24px\">\n",
              "    <path d=\"M0 0h24v24H0V0z\" fill=\"none\"/>\n",
              "    <path d=\"M18.56 5.44l.94 2.06.94-2.06 2.06-.94-2.06-.94-.94-2.06-.94 2.06-2.06.94zm-11 1L8.5 8.5l.94-2.06 2.06-.94-2.06-.94L8.5 2.5l-.94 2.06-2.06.94zm10 10l.94 2.06.94-2.06 2.06-.94-2.06-.94-.94-2.06-.94 2.06-2.06.94z\"/><path d=\"M17.41 7.96l-1.37-1.37c-.4-.4-.92-.59-1.43-.59-.52 0-1.04.2-1.43.59L10.3 9.45l-7.72 7.72c-.78.78-.78 2.05 0 2.83L4 21.41c.39.39.9.59 1.41.59.51 0 1.02-.2 1.41-.59l7.78-7.78 2.81-2.81c.8-.78.8-2.07 0-2.86zM5.41 20L4 18.59l7.72-7.72 1.47 1.35L5.41 20z\"/>\n",
              "  </svg>\n",
              "      </button>\n",
              "      \n",
              "  <style>\n",
              "    .colab-df-container {\n",
              "      display:flex;\n",
              "      flex-wrap:wrap;\n",
              "      gap: 12px;\n",
              "    }\n",
              "\n",
              "    .colab-df-convert {\n",
              "      background-color: #E8F0FE;\n",
              "      border: none;\n",
              "      border-radius: 50%;\n",
              "      cursor: pointer;\n",
              "      display: none;\n",
              "      fill: #1967D2;\n",
              "      height: 32px;\n",
              "      padding: 0 0 0 0;\n",
              "      width: 32px;\n",
              "    }\n",
              "\n",
              "    .colab-df-convert:hover {\n",
              "      background-color: #E2EBFA;\n",
              "      box-shadow: 0px 1px 2px rgba(60, 64, 67, 0.3), 0px 1px 3px 1px rgba(60, 64, 67, 0.15);\n",
              "      fill: #174EA6;\n",
              "    }\n",
              "\n",
              "    [theme=dark] .colab-df-convert {\n",
              "      background-color: #3B4455;\n",
              "      fill: #D2E3FC;\n",
              "    }\n",
              "\n",
              "    [theme=dark] .colab-df-convert:hover {\n",
              "      background-color: #434B5C;\n",
              "      box-shadow: 0px 1px 3px 1px rgba(0, 0, 0, 0.15);\n",
              "      filter: drop-shadow(0px 1px 2px rgba(0, 0, 0, 0.3));\n",
              "      fill: #FFFFFF;\n",
              "    }\n",
              "  </style>\n",
              "\n",
              "      <script>\n",
              "        const buttonEl =\n",
              "          document.querySelector('#df-a41e6e54-87d7-4074-af1b-abda0bc5bb38 button.colab-df-convert');\n",
              "        buttonEl.style.display =\n",
              "          google.colab.kernel.accessAllowed ? 'block' : 'none';\n",
              "\n",
              "        async function convertToInteractive(key) {\n",
              "          const element = document.querySelector('#df-a41e6e54-87d7-4074-af1b-abda0bc5bb38');\n",
              "          const dataTable =\n",
              "            await google.colab.kernel.invokeFunction('convertToInteractive',\n",
              "                                                     [key], {});\n",
              "          if (!dataTable) return;\n",
              "\n",
              "          const docLinkHtml = 'Like what you see? Visit the ' +\n",
              "            '<a target=\"_blank\" href=https://colab.research.google.com/notebooks/data_table.ipynb>data table notebook</a>'\n",
              "            + ' to learn more about interactive tables.';\n",
              "          element.innerHTML = '';\n",
              "          dataTable['output_type'] = 'display_data';\n",
              "          await google.colab.output.renderOutput(dataTable, element);\n",
              "          const docLink = document.createElement('div');\n",
              "          docLink.innerHTML = docLinkHtml;\n",
              "          element.appendChild(docLink);\n",
              "        }\n",
              "      </script>\n",
              "    </div>\n",
              "  </div>\n",
              "  "
            ]
          },
          "metadata": {},
          "execution_count": 7
        }
      ]
    },
    {
      "cell_type": "code",
      "source": [],
      "metadata": {
        "id": "0XMin8yWgPD6"
      },
      "execution_count": null,
      "outputs": []
    },
    {
      "cell_type": "code",
      "source": [
        "\n",
        "# Before imputation: Number of Null values in each columns\n",
        "print('---------- Before imputation: Number of null values in each columns ----------')\n",
        "print('\\nTotal No. of records/rows: ', len(rain))\n",
        "print('MinTemp:',pd.isnull(rain['MinTemp']).sum())\n",
        "print('MaxTemp:',pd.isnull(rain['MaxTemp']).sum())\n",
        "print('Rainfall:',pd.isnull(rain['Rainfall']).sum())\n",
        "print('Evaporation:',pd.isnull(rain['Evaporation']).sum())\n",
        "print('Sunshine:',pd.isnull(rain['Sunshine']).sum())\n",
        "print('WindGustSpeed:',pd.isnull(rain['WindGustSpeed']).sum())\n",
        "print('WindSpeed9am:',pd.isnull(rain['WindSpeed9am']).sum())\n",
        "print('WindSpeed3pm:',pd.isnull(rain['WindSpeed3pm']).sum())\n",
        "print('Humidity9am:',pd.isnull(rain['Humidity9am']).sum())\n",
        "print('Humidity3pm:',pd.isnull(rain['Humidity3pm']).sum())\n",
        "print('Pressure9am:',pd.isnull(rain['Pressure9am']).sum())\n",
        "print('Pressure3pm:',pd.isnull(rain['Pressure3pm']).sum())\n",
        "print('Cloud9am:',pd.isnull(rain['Cloud9am']).sum())\n",
        "print('Cloud3pm:',pd.isnull(rain['Cloud3pm']).sum())\n",
        "print('Temp9am:',pd.isnull(rain['Temp9am']).sum())\n",
        "print('Temp3pm:',pd.isnull(rain['Temp3pm']).sum())\n",
        "\n"
      ],
      "metadata": {
        "colab": {
          "base_uri": "https://localhost:8080/"
        },
        "id": "4Q4GvUglOoXS",
        "outputId": "16ffee3a-5a53-4dc2-f6c6-66878587e11b"
      },
      "execution_count": null,
      "outputs": [
        {
          "output_type": "stream",
          "name": "stdout",
          "text": [
            "---------- Before imputation: Number of null values in each columns ----------\n",
            "\n",
            "Total No. of records/rows:  140787\n",
            "MinTemp: 468\n",
            "MaxTemp: 307\n",
            "Rainfall: 0\n",
            "Evaporation: 59694\n",
            "Sunshine: 66805\n",
            "WindGustSpeed: 9105\n",
            "WindSpeed9am: 1055\n",
            "WindSpeed3pm: 2531\n",
            "Humidity9am: 1517\n",
            "Humidity3pm: 3501\n",
            "Pressure9am: 13743\n",
            "Pressure3pm: 13769\n",
            "Cloud9am: 52625\n",
            "Cloud3pm: 56094\n",
            "Temp9am: 656\n",
            "Temp3pm: 2624\n"
          ]
        }
      ]
    },
    {
      "cell_type": "code",
      "source": [
        "# Convert dataframe to numpy for imputation operation\n",
        "rain_np = rain.to_numpy()\n",
        "# print(rain_np)"
      ],
      "metadata": {
        "id": "wv5XzXXtOy_v"
      },
      "execution_count": null,
      "outputs": []
    },
    {
      "cell_type": "code",
      "source": [
        "# Training the imputation model [Multivariate feature imputation]\n",
        "# Run time is around 2 minutes\n",
        "st = time.time()\n",
        "from sklearn.experimental import enable_iterative_imputer\n",
        "from sklearn.impute import IterativeImputer\n",
        "imp = IterativeImputer(max_iter=50, random_state=1)\n",
        "imp.fit(rain_np)\n",
        "\n",
        "end = time.time()\n",
        "diff = end-st\n",
        "print('time: ', round(diff,2),'sec')"
      ],
      "metadata": {
        "colab": {
          "base_uri": "https://localhost:8080/"
        },
        "id": "dvFr10kLOzlt",
        "outputId": "0df838a2-a6f0-44ce-fd69-15c795c2b6d4"
      },
      "execution_count": null,
      "outputs": [
        {
          "output_type": "stream",
          "name": "stdout",
          "text": [
            "time:  106.4 sec\n"
          ]
        }
      ]
    },
    {
      "cell_type": "code",
      "source": [
        "# Transform Null values using Multivariate feature imputation \n",
        "rain_np_imp  = imp.transform(rain_np)\n"
      ],
      "metadata": {
        "id": "S8R61nLxO6YL"
      },
      "execution_count": null,
      "outputs": []
    },
    {
      "cell_type": "code",
      "source": [
        "# print(type(rain_np_imp))\n",
        "# rain_np_imp[0]"
      ],
      "metadata": {
        "id": "u6R1jg_Qp2rN"
      },
      "execution_count": null,
      "outputs": []
    },
    {
      "cell_type": "code",
      "source": [
        "# Convert numpy data to dataframe data\n",
        "rain_imp = pd.DataFrame(rain_np_imp, columns = ['MinTemp','MaxTemp','Rainfall','Evaporation','Sunshine','WindGustSpeed','WindSpeed9am','WindSpeed3pm','Humidity9am','Humidity3pm','Pressure9am','Pressure3pm','Cloud9am','Cloud3pm','Temp9am','Temp3pm','RainToday'])\n",
        "rain_imp.head(3)\n",
        "# rain_imp.to_excel(r'Original_file_imp.xlsx', index = False)"
      ],
      "metadata": {
        "colab": {
          "base_uri": "https://localhost:8080/",
          "height": 207
        },
        "id": "v4Jx1tMcO_Zi",
        "outputId": "67111697-6f74-4f27-d160-caa87685af94"
      },
      "execution_count": null,
      "outputs": [
        {
          "output_type": "execute_result",
          "data": {
            "text/plain": [
              "   MinTemp  MaxTemp  Rainfall  Evaporation   Sunshine  WindGustSpeed  \\\n",
              "0     13.4     22.9       0.6     6.504899   7.051956           44.0   \n",
              "1      7.4     25.1       0.0     6.273177  10.853746           44.0   \n",
              "2     12.9     25.7       0.0     8.664616  11.811031           46.0   \n",
              "\n",
              "   WindSpeed9am  WindSpeed3pm  Humidity9am  Humidity3pm  Pressure9am  \\\n",
              "0          20.0          24.0         71.0         22.0       1007.7   \n",
              "1           4.0          22.0         44.0         25.0       1010.6   \n",
              "2          19.0          26.0         38.0         30.0       1007.6   \n",
              "\n",
              "   Pressure3pm  Cloud9am  Cloud3pm  Temp9am  Temp3pm  RainToday  \n",
              "0       1007.1  8.000000  5.106757     16.9     21.8        0.0  \n",
              "1       1007.8  1.922498  2.652165     17.2     24.3        0.0  \n",
              "2       1008.7  2.017205  2.000000     21.0     23.2        0.0  "
            ],
            "text/html": [
              "\n",
              "  <div id=\"df-77a4422e-6f04-4379-a2bc-7c505ec413c3\">\n",
              "    <div class=\"colab-df-container\">\n",
              "      <div>\n",
              "<style scoped>\n",
              "    .dataframe tbody tr th:only-of-type {\n",
              "        vertical-align: middle;\n",
              "    }\n",
              "\n",
              "    .dataframe tbody tr th {\n",
              "        vertical-align: top;\n",
              "    }\n",
              "\n",
              "    .dataframe thead th {\n",
              "        text-align: right;\n",
              "    }\n",
              "</style>\n",
              "<table border=\"1\" class=\"dataframe\">\n",
              "  <thead>\n",
              "    <tr style=\"text-align: right;\">\n",
              "      <th></th>\n",
              "      <th>MinTemp</th>\n",
              "      <th>MaxTemp</th>\n",
              "      <th>Rainfall</th>\n",
              "      <th>Evaporation</th>\n",
              "      <th>Sunshine</th>\n",
              "      <th>WindGustSpeed</th>\n",
              "      <th>WindSpeed9am</th>\n",
              "      <th>WindSpeed3pm</th>\n",
              "      <th>Humidity9am</th>\n",
              "      <th>Humidity3pm</th>\n",
              "      <th>Pressure9am</th>\n",
              "      <th>Pressure3pm</th>\n",
              "      <th>Cloud9am</th>\n",
              "      <th>Cloud3pm</th>\n",
              "      <th>Temp9am</th>\n",
              "      <th>Temp3pm</th>\n",
              "      <th>RainToday</th>\n",
              "    </tr>\n",
              "  </thead>\n",
              "  <tbody>\n",
              "    <tr>\n",
              "      <th>0</th>\n",
              "      <td>13.4</td>\n",
              "      <td>22.9</td>\n",
              "      <td>0.6</td>\n",
              "      <td>6.504899</td>\n",
              "      <td>7.051956</td>\n",
              "      <td>44.0</td>\n",
              "      <td>20.0</td>\n",
              "      <td>24.0</td>\n",
              "      <td>71.0</td>\n",
              "      <td>22.0</td>\n",
              "      <td>1007.7</td>\n",
              "      <td>1007.1</td>\n",
              "      <td>8.000000</td>\n",
              "      <td>5.106757</td>\n",
              "      <td>16.9</td>\n",
              "      <td>21.8</td>\n",
              "      <td>0.0</td>\n",
              "    </tr>\n",
              "    <tr>\n",
              "      <th>1</th>\n",
              "      <td>7.4</td>\n",
              "      <td>25.1</td>\n",
              "      <td>0.0</td>\n",
              "      <td>6.273177</td>\n",
              "      <td>10.853746</td>\n",
              "      <td>44.0</td>\n",
              "      <td>4.0</td>\n",
              "      <td>22.0</td>\n",
              "      <td>44.0</td>\n",
              "      <td>25.0</td>\n",
              "      <td>1010.6</td>\n",
              "      <td>1007.8</td>\n",
              "      <td>1.922498</td>\n",
              "      <td>2.652165</td>\n",
              "      <td>17.2</td>\n",
              "      <td>24.3</td>\n",
              "      <td>0.0</td>\n",
              "    </tr>\n",
              "    <tr>\n",
              "      <th>2</th>\n",
              "      <td>12.9</td>\n",
              "      <td>25.7</td>\n",
              "      <td>0.0</td>\n",
              "      <td>8.664616</td>\n",
              "      <td>11.811031</td>\n",
              "      <td>46.0</td>\n",
              "      <td>19.0</td>\n",
              "      <td>26.0</td>\n",
              "      <td>38.0</td>\n",
              "      <td>30.0</td>\n",
              "      <td>1007.6</td>\n",
              "      <td>1008.7</td>\n",
              "      <td>2.017205</td>\n",
              "      <td>2.000000</td>\n",
              "      <td>21.0</td>\n",
              "      <td>23.2</td>\n",
              "      <td>0.0</td>\n",
              "    </tr>\n",
              "  </tbody>\n",
              "</table>\n",
              "</div>\n",
              "      <button class=\"colab-df-convert\" onclick=\"convertToInteractive('df-77a4422e-6f04-4379-a2bc-7c505ec413c3')\"\n",
              "              title=\"Convert this dataframe to an interactive table.\"\n",
              "              style=\"display:none;\">\n",
              "        \n",
              "  <svg xmlns=\"http://www.w3.org/2000/svg\" height=\"24px\"viewBox=\"0 0 24 24\"\n",
              "       width=\"24px\">\n",
              "    <path d=\"M0 0h24v24H0V0z\" fill=\"none\"/>\n",
              "    <path d=\"M18.56 5.44l.94 2.06.94-2.06 2.06-.94-2.06-.94-.94-2.06-.94 2.06-2.06.94zm-11 1L8.5 8.5l.94-2.06 2.06-.94-2.06-.94L8.5 2.5l-.94 2.06-2.06.94zm10 10l.94 2.06.94-2.06 2.06-.94-2.06-.94-.94-2.06-.94 2.06-2.06.94z\"/><path d=\"M17.41 7.96l-1.37-1.37c-.4-.4-.92-.59-1.43-.59-.52 0-1.04.2-1.43.59L10.3 9.45l-7.72 7.72c-.78.78-.78 2.05 0 2.83L4 21.41c.39.39.9.59 1.41.59.51 0 1.02-.2 1.41-.59l7.78-7.78 2.81-2.81c.8-.78.8-2.07 0-2.86zM5.41 20L4 18.59l7.72-7.72 1.47 1.35L5.41 20z\"/>\n",
              "  </svg>\n",
              "      </button>\n",
              "      \n",
              "  <style>\n",
              "    .colab-df-container {\n",
              "      display:flex;\n",
              "      flex-wrap:wrap;\n",
              "      gap: 12px;\n",
              "    }\n",
              "\n",
              "    .colab-df-convert {\n",
              "      background-color: #E8F0FE;\n",
              "      border: none;\n",
              "      border-radius: 50%;\n",
              "      cursor: pointer;\n",
              "      display: none;\n",
              "      fill: #1967D2;\n",
              "      height: 32px;\n",
              "      padding: 0 0 0 0;\n",
              "      width: 32px;\n",
              "    }\n",
              "\n",
              "    .colab-df-convert:hover {\n",
              "      background-color: #E2EBFA;\n",
              "      box-shadow: 0px 1px 2px rgba(60, 64, 67, 0.3), 0px 1px 3px 1px rgba(60, 64, 67, 0.15);\n",
              "      fill: #174EA6;\n",
              "    }\n",
              "\n",
              "    [theme=dark] .colab-df-convert {\n",
              "      background-color: #3B4455;\n",
              "      fill: #D2E3FC;\n",
              "    }\n",
              "\n",
              "    [theme=dark] .colab-df-convert:hover {\n",
              "      background-color: #434B5C;\n",
              "      box-shadow: 0px 1px 3px 1px rgba(0, 0, 0, 0.15);\n",
              "      filter: drop-shadow(0px 1px 2px rgba(0, 0, 0, 0.3));\n",
              "      fill: #FFFFFF;\n",
              "    }\n",
              "  </style>\n",
              "\n",
              "      <script>\n",
              "        const buttonEl =\n",
              "          document.querySelector('#df-77a4422e-6f04-4379-a2bc-7c505ec413c3 button.colab-df-convert');\n",
              "        buttonEl.style.display =\n",
              "          google.colab.kernel.accessAllowed ? 'block' : 'none';\n",
              "\n",
              "        async function convertToInteractive(key) {\n",
              "          const element = document.querySelector('#df-77a4422e-6f04-4379-a2bc-7c505ec413c3');\n",
              "          const dataTable =\n",
              "            await google.colab.kernel.invokeFunction('convertToInteractive',\n",
              "                                                     [key], {});\n",
              "          if (!dataTable) return;\n",
              "\n",
              "          const docLinkHtml = 'Like what you see? Visit the ' +\n",
              "            '<a target=\"_blank\" href=https://colab.research.google.com/notebooks/data_table.ipynb>data table notebook</a>'\n",
              "            + ' to learn more about interactive tables.';\n",
              "          element.innerHTML = '';\n",
              "          dataTable['output_type'] = 'display_data';\n",
              "          await google.colab.output.renderOutput(dataTable, element);\n",
              "          const docLink = document.createElement('div');\n",
              "          docLink.innerHTML = docLinkHtml;\n",
              "          element.appendChild(docLink);\n",
              "        }\n",
              "      </script>\n",
              "    </div>\n",
              "  </div>\n",
              "  "
            ]
          },
          "metadata": {},
          "execution_count": 13
        }
      ]
    },
    {
      "cell_type": "code",
      "source": [
        "# After imputation: Number of Null values in each columns\n",
        "print('---------- After imputation: Number of null values in each columns ----------')\n",
        "print('\\nTotal No. of records/rows: ', len(rain_imp))\n",
        "print('MinTemp:',pd.isnull(rain_imp['MinTemp']).sum())\n",
        "print('MaxTemp:',pd.isnull(rain_imp['MaxTemp']).sum())\n",
        "print('Rainfall:',pd.isnull(rain_imp['Rainfall']).sum())\n",
        "print('Evaporation:',pd.isnull(rain_imp['Evaporation']).sum())\n",
        "print('Sunshine:',pd.isnull(rain_imp['Sunshine']).sum())\n",
        "print('WindGustSpeed:',pd.isnull(rain_imp['WindGustSpeed']).sum())\n",
        "print('Humidity9am:',pd.isnull(rain_imp['Humidity9am']).sum())\n",
        "print('Humidity3pm:',pd.isnull(rain_imp['Humidity3pm']).sum())\n",
        "print('Pressure9am:',pd.isnull(rain_imp['Pressure9am']).sum())\n",
        "print('Pressure3pm:',pd.isnull(rain_imp['Pressure3pm']).sum())\n",
        "print('Cloud9am:',pd.isnull(rain_imp['Cloud9am']).sum())\n",
        "print('Cloud3pm:',pd.isnull(rain_imp['Cloud3pm']).sum())\n",
        "print('Temp9am:',pd.isnull(rain_imp['Temp9am']).sum())\n",
        "print('Temp3pm:',pd.isnull(rain_imp['Temp3pm']).sum())\n"
      ],
      "metadata": {
        "colab": {
          "base_uri": "https://localhost:8080/"
        },
        "id": "Q-sAD4fkdJvK",
        "outputId": "45d00940-52a8-4d7e-8967-c27cd33d8633"
      },
      "execution_count": null,
      "outputs": [
        {
          "output_type": "stream",
          "name": "stdout",
          "text": [
            "---------- After imputation: Number of null values in each columns ----------\n",
            "\n",
            "Total No. of records/rows:  140787\n",
            "MinTemp: 0\n",
            "MaxTemp: 0\n",
            "Rainfall: 0\n",
            "Evaporation: 0\n",
            "Sunshine: 0\n",
            "WindGustSpeed: 0\n",
            "Humidity9am: 0\n",
            "Humidity3pm: 0\n",
            "Pressure9am: 0\n",
            "Pressure3pm: 0\n",
            "Cloud9am: 0\n",
            "Cloud3pm: 0\n",
            "Temp9am: 0\n",
            "Temp3pm: 0\n"
          ]
        }
      ]
    },
    {
      "cell_type": "code",
      "source": [
        "\n",
        "# (1). We are not using p-value for features selection because in backward method after 2nd iteration we reached a dead end where all features have zero p-value\n",
        "#      I have documented the work(p-value) in doc file, please refer for detail (file name: Issues in data pre-processing.docx)\n",
        "# (2). SelectBest method is also not effective because it just gives us training data with K features without any header, difficult to identify features name.  \n",
        "\n",
        "#  For more details please see the document in the below link\n",
        "# https://docs.google.com/document/d/15791_QsESwri4tQ2-tIYJV5tJWbKhvO5/edit?usp=sharing&ouid=113173886630120559872&rtpof=true&sd=true\n",
        "\n",
        "# ------------ Random forest features selection ------------\n",
        "from sklearn.ensemble import RandomForestClassifier\n",
        "\n",
        "y = target\n",
        "x = rain_imp\n",
        "st = time.time()\n",
        "\n",
        "forest = RandomForestClassifier(random_state=0)\n",
        "forest.fit(x, y)\n",
        "\n",
        "importances = forest.feature_importances_\n",
        "\n",
        "end = time.time()\n",
        "diff = end-st\n",
        "print('time: ', round(diff,2),'sec')\n",
        "print('Features selection')\n"
      ],
      "metadata": {
        "colab": {
          "base_uri": "https://localhost:8080/"
        },
        "id": "mb97s3mfgQnS",
        "outputId": "636b0322-8e72-4936-f4be-f835a2d9eb35"
      },
      "execution_count": null,
      "outputs": [
        {
          "output_type": "stream",
          "name": "stdout",
          "text": [
            "time:  51.95 sec\n",
            "Features selection\n"
          ]
        }
      ]
    },
    {
      "cell_type": "code",
      "source": [
        "# Header of the columns/features, used in graph plot\n",
        "COLS = ['MinTemp','MaxTemp','Rainfall','Evaporation','Sunshine','WindGustSpeed','WindSpeed9am','WindSpeed3pm','Humidity9am','Humidity3pm','Pressure9am','Pressure3pm','Cloud9am','Cloud3pm','Temp9am','Temp3pm','RainToday']\n",
        "\n",
        "\n",
        "# Plot graph\n",
        "forest_importances = pd.Series(importances, index=COLS)\n",
        "fig, ax = plt.subplots()\n",
        "forest_importances.plot.bar()\n",
        "ax.set_title(\"Feature importances using MDI\")\n",
        "ax.set_ylabel(\"Mean decrease in impurity\")\n",
        "fig.tight_layout()\n",
        "\n",
        "print('\\nFeatures sorted as per importance:\\n')\n",
        "# Features importance sorted list\n",
        "feat = []\n",
        "for i in range(len(COLS)):  \n",
        "  feat.append((round(importances[i],3), COLS[i]))\n",
        "feat.sort(reverse=True)\n",
        "\n",
        "for i in feat:\n",
        "  print(i[1],':',i[0],end=' || ')\n",
        "\n",
        "print('\\n\\n')"
      ],
      "metadata": {
        "colab": {
          "base_uri": "https://localhost:8080/",
          "height": 421
        },
        "id": "vJV30Juac-Sp",
        "outputId": "6126239b-eaee-4c1e-eb42-ac7e2eb13940"
      },
      "execution_count": null,
      "outputs": [
        {
          "output_type": "stream",
          "name": "stdout",
          "text": [
            "\n",
            "Features sorted as per importance:\n",
            "\n",
            "Humidity3pm : 0.16 || Sunshine : 0.12 || Pressure3pm : 0.072 || Cloud3pm : 0.071 || Pressure9am : 0.062 || WindGustSpeed : 0.057 || Evaporation : 0.048 || Cloud9am : 0.048 || MinTemp : 0.047 || Temp9am : 0.046 || Temp3pm : 0.046 || Humidity9am : 0.046 || Rainfall : 0.045 || MaxTemp : 0.044 || WindSpeed3pm : 0.036 || WindSpeed9am : 0.033 || RainToday : 0.02 || \n",
            "\n",
            "\n"
          ]
        },
        {
          "output_type": "display_data",
          "data": {
            "text/plain": [
              "<Figure size 432x288 with 1 Axes>"
            ],
            "image/png": "[encoded data removed]"
          },
          "metadata": {
            "needs_background": "light"
          }
        }
      ]
    },
    {
      "cell_type": "code",
      "source": [],
      "metadata": {
        "id": "hGJgUqJjc-WH"
      },
      "execution_count": null,
      "outputs": []
    },
    {
      "cell_type": "code",
      "source": [
        "# Feature selection: six columns selected for the LR model\n",
        "rain_imp_feat = rain_imp[['Humidity3pm','Sunshine','Pressure3pm','Cloud3pm','Pressure9am','WindGustSpeed']].copy()\n",
        "rain_imp_feat.head(3)\n",
        "\n",
        "# Export file to see the data\n",
        "# rain_imp_feat.to_excel(r'Feature_selected_imp.xlsx', index = False)"
      ],
      "metadata": {
        "colab": {
          "base_uri": "https://localhost:8080/",
          "height": 143
        },
        "id": "fA_7xtBWPEZ2",
        "outputId": "5a2a878e-1409-4566-f003-e62c051f1314"
      },
      "execution_count": null,
      "outputs": [
        {
          "output_type": "execute_result",
          "data": {
            "text/plain": [
              "   Humidity3pm   Sunshine  Pressure3pm  Cloud3pm  Pressure9am  WindGustSpeed\n",
              "0         22.0   7.051956       1007.1  5.106757       1007.7           44.0\n",
              "1         25.0  10.853746       1007.8  2.652165       1010.6           44.0\n",
              "2         30.0  11.811031       1008.7  2.000000       1007.6           46.0"
            ],
            "text/html": [
              "\n",
              "  <div id=\"df-f5c2a4ee-c855-4b2a-b198-b3e8cc0110f7\">\n",
              "    <div class=\"colab-df-container\">\n",
              "      <div>\n",
              "<style scoped>\n",
              "    .dataframe tbody tr th:only-of-type {\n",
              "        vertical-align: middle;\n",
              "    }\n",
              "\n",
              "    .dataframe tbody tr th {\n",
              "        vertical-align: top;\n",
              "    }\n",
              "\n",
              "    .dataframe thead th {\n",
              "        text-align: right;\n",
              "    }\n",
              "</style>\n",
              "<table border=\"1\" class=\"dataframe\">\n",
              "  <thead>\n",
              "    <tr style=\"text-align: right;\">\n",
              "      <th></th>\n",
              "      <th>Humidity3pm</th>\n",
              "      <th>Sunshine</th>\n",
              "      <th>Pressure3pm</th>\n",
              "      <th>Cloud3pm</th>\n",
              "      <th>Pressure9am</th>\n",
              "      <th>WindGustSpeed</th>\n",
              "    </tr>\n",
              "  </thead>\n",
              "  <tbody>\n",
              "    <tr>\n",
              "      <th>0</th>\n",
              "      <td>22.0</td>\n",
              "      <td>7.051956</td>\n",
              "      <td>1007.1</td>\n",
              "      <td>5.106757</td>\n",
              "      <td>1007.7</td>\n",
              "      <td>44.0</td>\n",
              "    </tr>\n",
              "    <tr>\n",
              "      <th>1</th>\n",
              "      <td>25.0</td>\n",
              "      <td>10.853746</td>\n",
              "      <td>1007.8</td>\n",
              "      <td>2.652165</td>\n",
              "      <td>1010.6</td>\n",
              "      <td>44.0</td>\n",
              "    </tr>\n",
              "    <tr>\n",
              "      <th>2</th>\n",
              "      <td>30.0</td>\n",
              "      <td>11.811031</td>\n",
              "      <td>1008.7</td>\n",
              "      <td>2.000000</td>\n",
              "      <td>1007.6</td>\n",
              "      <td>46.0</td>\n",
              "    </tr>\n",
              "  </tbody>\n",
              "</table>\n",
              "</div>\n",
              "      <button class=\"colab-df-convert\" onclick=\"convertToInteractive('df-f5c2a4ee-c855-4b2a-b198-b3e8cc0110f7')\"\n",
              "              title=\"Convert this dataframe to an interactive table.\"\n",
              "              style=\"display:none;\">\n",
              "        \n",
              "  <svg xmlns=\"http://www.w3.org/2000/svg\" height=\"24px\"viewBox=\"0 0 24 24\"\n",
              "       width=\"24px\">\n",
              "    <path d=\"M0 0h24v24H0V0z\" fill=\"none\"/>\n",
              "    <path d=\"M18.56 5.44l.94 2.06.94-2.06 2.06-.94-2.06-.94-.94-2.06-.94 2.06-2.06.94zm-11 1L8.5 8.5l.94-2.06 2.06-.94-2.06-.94L8.5 2.5l-.94 2.06-2.06.94zm10 10l.94 2.06.94-2.06 2.06-.94-2.06-.94-.94-2.06-.94 2.06-2.06.94z\"/><path d=\"M17.41 7.96l-1.37-1.37c-.4-.4-.92-.59-1.43-.59-.52 0-1.04.2-1.43.59L10.3 9.45l-7.72 7.72c-.78.78-.78 2.05 0 2.83L4 21.41c.39.39.9.59 1.41.59.51 0 1.02-.2 1.41-.59l7.78-7.78 2.81-2.81c.8-.78.8-2.07 0-2.86zM5.41 20L4 18.59l7.72-7.72 1.47 1.35L5.41 20z\"/>\n",
              "  </svg>\n",
              "      </button>\n",
              "      \n",
              "  <style>\n",
              "    .colab-df-container {\n",
              "      display:flex;\n",
              "      flex-wrap:wrap;\n",
              "      gap: 12px;\n",
              "    }\n",
              "\n",
              "    .colab-df-convert {\n",
              "      background-color: #E8F0FE;\n",
              "      border: none;\n",
              "      border-radius: 50%;\n",
              "      cursor: pointer;\n",
              "      display: none;\n",
              "      fill: #1967D2;\n",
              "      height: 32px;\n",
              "      padding: 0 0 0 0;\n",
              "      width: 32px;\n",
              "    }\n",
              "\n",
              "    .colab-df-convert:hover {\n",
              "      background-color: #E2EBFA;\n",
              "      box-shadow: 0px 1px 2px rgba(60, 64, 67, 0.3), 0px 1px 3px 1px rgba(60, 64, 67, 0.15);\n",
              "      fill: #174EA6;\n",
              "    }\n",
              "\n",
              "    [theme=dark] .colab-df-convert {\n",
              "      background-color: #3B4455;\n",
              "      fill: #D2E3FC;\n",
              "    }\n",
              "\n",
              "    [theme=dark] .colab-df-convert:hover {\n",
              "      background-color: #434B5C;\n",
              "      box-shadow: 0px 1px 3px 1px rgba(0, 0, 0, 0.15);\n",
              "      filter: drop-shadow(0px 1px 2px rgba(0, 0, 0, 0.3));\n",
              "      fill: #FFFFFF;\n",
              "    }\n",
              "  </style>\n",
              "\n",
              "      <script>\n",
              "        const buttonEl =\n",
              "          document.querySelector('#df-f5c2a4ee-c855-4b2a-b198-b3e8cc0110f7 button.colab-df-convert');\n",
              "        buttonEl.style.display =\n",
              "          google.colab.kernel.accessAllowed ? 'block' : 'none';\n",
              "\n",
              "        async function convertToInteractive(key) {\n",
              "          const element = document.querySelector('#df-f5c2a4ee-c855-4b2a-b198-b3e8cc0110f7');\n",
              "          const dataTable =\n",
              "            await google.colab.kernel.invokeFunction('convertToInteractive',\n",
              "                                                     [key], {});\n",
              "          if (!dataTable) return;\n",
              "\n",
              "          const docLinkHtml = 'Like what you see? Visit the ' +\n",
              "            '<a target=\"_blank\" href=https://colab.research.google.com/notebooks/data_table.ipynb>data table notebook</a>'\n",
              "            + ' to learn more about interactive tables.';\n",
              "          element.innerHTML = '';\n",
              "          dataTable['output_type'] = 'display_data';\n",
              "          await google.colab.output.renderOutput(dataTable, element);\n",
              "          const docLink = document.createElement('div');\n",
              "          docLink.innerHTML = docLinkHtml;\n",
              "          element.appendChild(docLink);\n",
              "        }\n",
              "      </script>\n",
              "    </div>\n",
              "  </div>\n",
              "  "
            ]
          },
          "metadata": {},
          "execution_count": 17
        }
      ]
    },
    {
      "cell_type": "code",
      "source": [
        "# Skew detection and removal\n",
        "\n",
        "rain_imp_feat.hist(column=['Humidity3pm'],bins=50, figsize=(7,5))\n",
        "print('Min:',round((rain_imp_feat['Humidity3pm']).min(),3))\n",
        "print('Max:',round((rain_imp_feat['Humidity3pm']).max(),3))"
      ],
      "metadata": {
        "colab": {
          "base_uri": "https://localhost:8080/",
          "height": 371
        },
        "id": "G8jo4_s9LJDa",
        "outputId": "4285d6d2-741a-47eb-81c0-fb3440e9aa7b"
      },
      "execution_count": null,
      "outputs": [
        {
          "output_type": "stream",
          "name": "stdout",
          "text": [
            "Min: -69.825\n",
            "Max: 100.0\n"
          ]
        },
        {
          "output_type": "display_data",
          "data": {
            "text/plain": [
              "<Figure size 504x360 with 1 Axes>"
            ],
            "image/png": "[encoded data removed]"
          },
          "metadata": {
            "needs_background": "light"
          }
        }
      ]
    },
    {
      "cell_type": "code",
      "source": [
        "# After square transformation on variable 'Humidity3pm' our distribution changed from -ve skew to +ve\n",
        "\n",
        "#  For more details please see the document in the below link\n",
        "# https://docs.google.com/document/d/15791_QsESwri4tQ2-tIYJV5tJWbKhvO5/edit?usp=sharing&ouid=113173886630120559872&rtpof=true&sd=true\n",
        "\n",
        "print('We are skipping this transformation because it flipped from -ve skew to +ve skew')\n"
      ],
      "metadata": {
        "colab": {
          "base_uri": "https://localhost:8080/"
        },
        "id": "PiXvXFj_8Wty",
        "outputId": "ea83d235-abe1-42c4-9389-92cd48aa6fba"
      },
      "execution_count": null,
      "outputs": [
        {
          "output_type": "stream",
          "name": "stdout",
          "text": [
            "We are skipping this transformation because it flipped from -ve skew to +ve skew\n"
          ]
        }
      ]
    },
    {
      "cell_type": "code",
      "source": [
        "rain_imp_feat.hist(column=['Sunshine'],bins=50, figsize=(7,5))\n",
        "print('Min:',round((rain_imp_feat['Sunshine']).min(),3))\n",
        "print('Max:',round((rain_imp_feat['Sunshine']).max(),3))"
      ],
      "metadata": {
        "colab": {
          "base_uri": "https://localhost:8080/",
          "height": 371
        },
        "id": "4Hp88PwDj5Rk",
        "outputId": "6f659223-9cb3-452b-f250-3842bbd32065"
      },
      "execution_count": null,
      "outputs": [
        {
          "output_type": "stream",
          "name": "stdout",
          "text": [
            "Min: -3.627\n",
            "Max: 21.835\n"
          ]
        },
        {
          "output_type": "display_data",
          "data": {
            "text/plain": [
              "<Figure size 504x360 with 1 Axes>"
            ],
            "image/png": "[encoded data removed]"
          },
          "metadata": {
            "needs_background": "light"
          }
        }
      ]
    },
    {
      "cell_type": "code",
      "source": [
        "rain_imp_feat.hist(column=['Pressure3pm'],bins=50, figsize=(7,5))\n",
        "print('Min:',round((rain_imp_feat['Pressure3pm']).min(),3))\n",
        "print('Max:',round((rain_imp_feat['Pressure3pm']).max(),3))"
      ],
      "metadata": {
        "colab": {
          "base_uri": "https://localhost:8080/",
          "height": 371
        },
        "id": "_eqKd76tkC_T",
        "outputId": "bbfeab34-c1a5-48b3-eb76-7bc2ac9f3c08"
      },
      "execution_count": null,
      "outputs": [
        {
          "output_type": "stream",
          "name": "stdout",
          "text": [
            "Min: 977.1\n",
            "Max: 1039.6\n"
          ]
        },
        {
          "output_type": "display_data",
          "data": {
            "text/plain": [
              "<Figure size 504x360 with 1 Axes>"
            ],
            "image/png": "[encoded data removed]"
          },
          "metadata": {
            "needs_background": "light"
          }
        }
      ]
    },
    {
      "cell_type": "code",
      "source": [
        "rain_imp_feat.hist(column=['Cloud3pm'],bins=50, figsize=(7,5))\n",
        "print('Min:',round((rain_imp_feat['Cloud3pm']).min(),3))\n",
        "print('Max:',round((rain_imp_feat['Cloud3pm']).max(),3))"
      ],
      "metadata": {
        "colab": {
          "base_uri": "https://localhost:8080/",
          "height": 371
        },
        "id": "mzrXF854kHsF",
        "outputId": "d8ece53d-0b88-4516-8b61-96ad3fa0fcd4"
      },
      "execution_count": null,
      "outputs": [
        {
          "output_type": "stream",
          "name": "stdout",
          "text": [
            "Min: -3.619\n",
            "Max: 12.137\n"
          ]
        },
        {
          "output_type": "display_data",
          "data": {
            "text/plain": [
              "<Figure size 504x360 with 1 Axes>"
            ],
            "image/png": "[encoded data removed]"
          },
          "metadata": {
            "needs_background": "light"
          }
        }
      ]
    },
    {
      "cell_type": "code",
      "source": [
        "rain_imp_feat.hist(column=['Pressure9am'],bins=50, figsize=(7,5))\n",
        "print('Min:',round((rain_imp_feat['Pressure9am']).min(),3))\n",
        "print('Max:',round((rain_imp_feat['Pressure9am']).max(),3))"
      ],
      "metadata": {
        "id": "KUYFuSdxkv9k",
        "colab": {
          "base_uri": "https://localhost:8080/",
          "height": 371
        },
        "outputId": "7fa62de5-ce6c-4606-d589-2f577ffb2bf0"
      },
      "execution_count": null,
      "outputs": [
        {
          "output_type": "stream",
          "name": "stdout",
          "text": [
            "Min: 980.5\n",
            "Max: 1041.0\n"
          ]
        },
        {
          "output_type": "display_data",
          "data": {
            "text/plain": [
              "<Figure size 504x360 with 1 Axes>"
            ],
            "image/png": "[encoded data removed]"
          },
          "metadata": {
            "needs_background": "light"
          }
        }
      ]
    },
    {
      "cell_type": "code",
      "source": [
        "rain_imp_feat.hist(column=['WindGustSpeed'],bins=50, figsize=(7,5))\n",
        "print('Min:',round((rain_imp_feat['WindGustSpeed']).min(),3))\n",
        "print('Max:',round((rain_imp_feat['WindGustSpeed']).max(),3))\n"
      ],
      "metadata": {
        "colab": {
          "base_uri": "https://localhost:8080/",
          "height": 371
        },
        "id": "8ckYfrzDhqpb",
        "outputId": "b38d3efb-0059-49dd-f70e-1591cc985105"
      },
      "execution_count": null,
      "outputs": [
        {
          "output_type": "stream",
          "name": "stdout",
          "text": [
            "Min: 6.0\n",
            "Max: 141.913\n"
          ]
        },
        {
          "output_type": "display_data",
          "data": {
            "text/plain": [
              "<Figure size 504x360 with 1 Axes>"
            ],
            "image/png": "[encoded data removed]"
          },
          "metadata": {
            "needs_background": "light"
          }
        }
      ]
    },
    {
      "cell_type": "code",
      "source": [
        "# # Log transformation to remove positive skewness\n",
        "for i in tqdm(range(len(rain_imp_feat))):  \n",
        "  rain_imp_feat.iloc[i]['WindGustSpeed'] = math.log(rain_imp_feat.iloc[i]['WindGustSpeed'])\n",
        "\n",
        "rain_imp_feat.hist(column=['WindGustSpeed'],bins=50, figsize=(7,5))\n",
        "print('Min:',round((rain_imp_feat['WindGustSpeed']).min(),3))\n",
        "print('Max:',round((rain_imp_feat['WindGustSpeed']).max(),3))\n"
      ],
      "metadata": {
        "colab": {
          "base_uri": "https://localhost:8080/",
          "height": 388
        },
        "id": "BO9KoeEwlhKD",
        "outputId": "9fe01d78-7f43-4d4f-dfc8-b1de19f93c1c"
      },
      "execution_count": null,
      "outputs": [
        {
          "output_type": "stream",
          "name": "stderr",
          "text": [
            "100%|██████████| 140787/140787 [00:20<00:00, 6707.17it/s]\n"
          ]
        },
        {
          "output_type": "stream",
          "name": "stdout",
          "text": [
            "Min: 1.792\n",
            "Max: 4.955\n"
          ]
        },
        {
          "output_type": "display_data",
          "data": {
            "text/plain": [
              "<Figure size 504x360 with 1 Axes>"
            ],
            "image/png": "[encoded data removed]"
          },
          "metadata": {
            "needs_background": "light"
          }
        }
      ]
    },
    {
      "cell_type": "code",
      "source": [],
      "metadata": {
        "id": "qxBNscpemg8R"
      },
      "execution_count": null,
      "outputs": []
    },
    {
      "cell_type": "code",
      "source": [
        "# Performing min-max normalization/scaling of data\n",
        "from sklearn import preprocessing\n",
        "from sklearn.preprocessing import StandardScaler\n",
        "min_max_scaler = preprocessing.MinMaxScaler()\n",
        "rain_norm = min_max_scaler.fit_transform(rain_imp_feat)\n"
      ],
      "metadata": {
        "id": "n9Ykm0byPT5d"
      },
      "execution_count": null,
      "outputs": []
    },
    {
      "cell_type": "code",
      "source": [
        "# Convert numpy to dataframe\n",
        "rain_norm = pd.DataFrame(rain_norm, columns = ['Humidity3pm','Sunshine','Pressure3pm','Cloud3pm','Pressure9am','WindGustSpeed'])\n",
        "rain_norm.head(3)"
      ],
      "metadata": {
        "colab": {
          "base_uri": "https://localhost:8080/",
          "height": 143
        },
        "id": "he6W3p-PPuzx",
        "outputId": "b8852fb7-bb91-499a-ad36-0813dd4a9330"
      },
      "execution_count": null,
      "outputs": [
        {
          "output_type": "execute_result",
          "data": {
            "text/plain": [
              "   Humidity3pm  Sunshine  Pressure3pm  Cloud3pm  Pressure9am  WindGustSpeed\n",
              "0     0.540703  0.419408       0.4800  0.553805     0.449587       0.629827\n",
              "1     0.558368  0.568718       0.4912  0.398025     0.497521       0.629827\n",
              "2     0.587810  0.606314       0.5056  0.356635     0.447934       0.643879"
            ],
            "text/html": [
              "\n",
              "  <div id=\"df-1b44f709-0081-4eec-8844-af0b306eee69\">\n",
              "    <div class=\"colab-df-container\">\n",
              "      <div>\n",
              "<style scoped>\n",
              "    .dataframe tbody tr th:only-of-type {\n",
              "        vertical-align: middle;\n",
              "    }\n",
              "\n",
              "    .dataframe tbody tr th {\n",
              "        vertical-align: top;\n",
              "    }\n",
              "\n",
              "    .dataframe thead th {\n",
              "        text-align: right;\n",
              "    }\n",
              "</style>\n",
              "<table border=\"1\" class=\"dataframe\">\n",
              "  <thead>\n",
              "    <tr style=\"text-align: right;\">\n",
              "      <th></th>\n",
              "      <th>Humidity3pm</th>\n",
              "      <th>Sunshine</th>\n",
              "      <th>Pressure3pm</th>\n",
              "      <th>Cloud3pm</th>\n",
              "      <th>Pressure9am</th>\n",
              "      <th>WindGustSpeed</th>\n",
              "    </tr>\n",
              "  </thead>\n",
              "  <tbody>\n",
              "    <tr>\n",
              "      <th>0</th>\n",
              "      <td>0.540703</td>\n",
              "      <td>0.419408</td>\n",
              "      <td>0.4800</td>\n",
              "      <td>0.553805</td>\n",
              "      <td>0.449587</td>\n",
              "      <td>0.629827</td>\n",
              "    </tr>\n",
              "    <tr>\n",
              "      <th>1</th>\n",
              "      <td>0.558368</td>\n",
              "      <td>0.568718</td>\n",
              "      <td>0.4912</td>\n",
              "      <td>0.398025</td>\n",
              "      <td>0.497521</td>\n",
              "      <td>0.629827</td>\n",
              "    </tr>\n",
              "    <tr>\n",
              "      <th>2</th>\n",
              "      <td>0.587810</td>\n",
              "      <td>0.606314</td>\n",
              "      <td>0.5056</td>\n",
              "      <td>0.356635</td>\n",
              "      <td>0.447934</td>\n",
              "      <td>0.643879</td>\n",
              "    </tr>\n",
              "  </tbody>\n",
              "</table>\n",
              "</div>\n",
              "      <button class=\"colab-df-convert\" onclick=\"convertToInteractive('df-1b44f709-0081-4eec-8844-af0b306eee69')\"\n",
              "              title=\"Convert this dataframe to an interactive table.\"\n",
              "              style=\"display:none;\">\n",
              "        \n",
              "  <svg xmlns=\"http://www.w3.org/2000/svg\" height=\"24px\"viewBox=\"0 0 24 24\"\n",
              "       width=\"24px\">\n",
              "    <path d=\"M0 0h24v24H0V0z\" fill=\"none\"/>\n",
              "    <path d=\"M18.56 5.44l.94 2.06.94-2.06 2.06-.94-2.06-.94-.94-2.06-.94 2.06-2.06.94zm-11 1L8.5 8.5l.94-2.06 2.06-.94-2.06-.94L8.5 2.5l-.94 2.06-2.06.94zm10 10l.94 2.06.94-2.06 2.06-.94-2.06-.94-.94-2.06-.94 2.06-2.06.94z\"/><path d=\"M17.41 7.96l-1.37-1.37c-.4-.4-.92-.59-1.43-.59-.52 0-1.04.2-1.43.59L10.3 9.45l-7.72 7.72c-.78.78-.78 2.05 0 2.83L4 21.41c.39.39.9.59 1.41.59.51 0 1.02-.2 1.41-.59l7.78-7.78 2.81-2.81c.8-.78.8-2.07 0-2.86zM5.41 20L4 18.59l7.72-7.72 1.47 1.35L5.41 20z\"/>\n",
              "  </svg>\n",
              "      </button>\n",
              "      \n",
              "  <style>\n",
              "    .colab-df-container {\n",
              "      display:flex;\n",
              "      flex-wrap:wrap;\n",
              "      gap: 12px;\n",
              "    }\n",
              "\n",
              "    .colab-df-convert {\n",
              "      background-color: #E8F0FE;\n",
              "      border: none;\n",
              "      border-radius: 50%;\n",
              "      cursor: pointer;\n",
              "      display: none;\n",
              "      fill: #1967D2;\n",
              "      height: 32px;\n",
              "      padding: 0 0 0 0;\n",
              "      width: 32px;\n",
              "    }\n",
              "\n",
              "    .colab-df-convert:hover {\n",
              "      background-color: #E2EBFA;\n",
              "      box-shadow: 0px 1px 2px rgba(60, 64, 67, 0.3), 0px 1px 3px 1px rgba(60, 64, 67, 0.15);\n",
              "      fill: #174EA6;\n",
              "    }\n",
              "\n",
              "    [theme=dark] .colab-df-convert {\n",
              "      background-color: #3B4455;\n",
              "      fill: #D2E3FC;\n",
              "    }\n",
              "\n",
              "    [theme=dark] .colab-df-convert:hover {\n",
              "      background-color: #434B5C;\n",
              "      box-shadow: 0px 1px 3px 1px rgba(0, 0, 0, 0.15);\n",
              "      filter: drop-shadow(0px 1px 2px rgba(0, 0, 0, 0.3));\n",
              "      fill: #FFFFFF;\n",
              "    }\n",
              "  </style>\n",
              "\n",
              "      <script>\n",
              "        const buttonEl =\n",
              "          document.querySelector('#df-1b44f709-0081-4eec-8844-af0b306eee69 button.colab-df-convert');\n",
              "        buttonEl.style.display =\n",
              "          google.colab.kernel.accessAllowed ? 'block' : 'none';\n",
              "\n",
              "        async function convertToInteractive(key) {\n",
              "          const element = document.querySelector('#df-1b44f709-0081-4eec-8844-af0b306eee69');\n",
              "          const dataTable =\n",
              "            await google.colab.kernel.invokeFunction('convertToInteractive',\n",
              "                                                     [key], {});\n",
              "          if (!dataTable) return;\n",
              "\n",
              "          const docLinkHtml = 'Like what you see? Visit the ' +\n",
              "            '<a target=\"_blank\" href=https://colab.research.google.com/notebooks/data_table.ipynb>data table notebook</a>'\n",
              "            + ' to learn more about interactive tables.';\n",
              "          element.innerHTML = '';\n",
              "          dataTable['output_type'] = 'display_data';\n",
              "          await google.colab.output.renderOutput(dataTable, element);\n",
              "          const docLink = document.createElement('div');\n",
              "          docLink.innerHTML = docLinkHtml;\n",
              "          element.appendChild(docLink);\n",
              "        }\n",
              "      </script>\n",
              "    </div>\n",
              "  </div>\n",
              "  "
            ]
          },
          "metadata": {},
          "execution_count": 27
        }
      ]
    },
    {
      "cell_type": "code",
      "source": [
        "# Target variable(list) is converted to dataframe\n",
        "df_tar = pd.DataFrame(target)\n",
        "df_tar = df_tar.set_axis(['RainTomorrow'], axis=1, inplace=False)\n",
        "# df_tar.head(3)"
      ],
      "metadata": {
        "id": "dZAp-urDs_B9"
      },
      "execution_count": null,
      "outputs": []
    },
    {
      "cell_type": "code",
      "source": [
        "# Making a copy of data to be used in LR model\n",
        "x_og = np.array(rain_norm.copy())\n",
        "y_og = np.array(df_tar.copy())\n",
        "y_og = y_og.reshape(140787,)\n",
        "print(x_og.shape)\n",
        "print(y_og.shape)"
      ],
      "metadata": {
        "colab": {
          "base_uri": "https://localhost:8080/"
        },
        "id": "zeblDGFsR_Jv",
        "outputId": "020083b6-af91-4bb2-c2da-fb9d150ec913"
      },
      "execution_count": null,
      "outputs": [
        {
          "output_type": "stream",
          "name": "stdout",
          "text": [
            "(140787, 6)\n",
            "(140787,)\n"
          ]
        }
      ]
    },
    {
      "cell_type": "code",
      "source": [
        "# ------------------------------------------- Logistic Regression Model Starts here -------------------------------------------\n",
        "print('############## Logistic Regression Model Starts here ##############')"
      ],
      "metadata": {
        "colab": {
          "base_uri": "https://localhost:8080/"
        },
        "id": "vIZpdLx4dEji",
        "outputId": "9ada95c7-8c09-434b-8271-a3b28483e843"
      },
      "execution_count": null,
      "outputs": [
        {
          "output_type": "stream",
          "name": "stdout",
          "text": [
            "############## Logistic Regression Model Starts here ##############\n"
          ]
        }
      ]
    },
    {
      "cell_type": "code",
      "source": [
        "# Set the seed value\n",
        "# change it to get random set of data\n",
        "seed = 5"
      ],
      "metadata": {
        "id": "_Wq4C-lV8mzd"
      },
      "execution_count": null,
      "outputs": []
    },
    {
      "cell_type": "code",
      "source": [
        "# split dataset into training test samples\n",
        "x_train, x_val, y_train, y_val = train_test_split(x_og, y_og, test_size=(40/100), random_state = seed)\n"
      ],
      "metadata": {
        "id": "eOIQAAP-bO0M"
      },
      "execution_count": null,
      "outputs": []
    },
    {
      "cell_type": "code",
      "source": [
        "# Making an instance of the Model\n",
        "lr_model = LogisticRegression(random_state = seed, solver='lbfgs',max_iter = 50000)\n",
        "\n",
        "# training the model\n",
        "lr_model.fit(x_train, y_train)"
      ],
      "metadata": {
        "colab": {
          "base_uri": "https://localhost:8080/"
        },
        "id": "QtKMArzQcF3R",
        "outputId": "e9ef42fc-01be-4724-b03c-7f2f5f2f6a59"
      },
      "execution_count": null,
      "outputs": [
        {
          "output_type": "execute_result",
          "data": {
            "text/plain": [
              "LogisticRegression(max_iter=50000, random_state=5)"
            ]
          },
          "metadata": {},
          "execution_count": 42
        }
      ]
    },
    {
      "cell_type": "code",
      "source": [
        "# Making prediction for training data\n",
        "predictions_train = lr_model.predict(x_train)\n",
        "\n",
        "# Making prediction for validation data\n",
        "predictions = lr_model.predict(x_val)\n"
      ],
      "metadata": {
        "id": "TWZaKnDJdukf"
      },
      "execution_count": null,
      "outputs": []
    },
    {
      "cell_type": "code",
      "source": [
        "# Calculating Accuracy for training data\n",
        "accuracy_train = lr_model.score(x_train, y_train)\n",
        "print('Accuracy of the LR model for training data is: ',(round((accuracy_train*100),2)))\n",
        "\n",
        "# Calculating Accuracy validation data\n",
        "accuracy = lr_model.score(x_val, y_val)\n",
        "print('Accuracy of the LR model for validation data is: ',(round((accuracy*100),2)))\n"
      ],
      "metadata": {
        "colab": {
          "base_uri": "https://localhost:8080/"
        },
        "id": "t-2s3nkIcGTN",
        "outputId": "d5bfff1a-8b48-4441-e5de-284217dcfbd2"
      },
      "execution_count": null,
      "outputs": [
        {
          "output_type": "stream",
          "name": "stdout",
          "text": [
            "Accuracy of the LR model for training data is:  84.2\n",
            "Accuracy of the LR model for validation data is:  84.4\n"
          ]
        }
      ]
    },
    {
      "cell_type": "code",
      "source": [
        "# Making confusion matrix\n",
        "cm = metrics.confusion_matrix(y_val, predictions)\n",
        "\n",
        "plt.figure(figsize=(6,6))\n",
        "sns.heatmap(cm, annot=True, fmt=\".3f\", linewidths=1, square = True, cmap = 'Greens_r' );\n",
        "plt.ylabel('Actual label',size=15);\n",
        "plt.xlabel('Predicted label',size=15);\n",
        "all_sample_title = 'Accuracy Score: {0}'.format(round(accuracy*100,2))\n",
        "plt.title(all_sample_title, size = 15);"
      ],
      "metadata": {
        "colab": {
          "base_uri": "https://localhost:8080/",
          "height": 364
        },
        "id": "u5eReCHsxloo",
        "outputId": "f5d2afbb-e0b8-4804-8f19-93d4872e06de"
      },
      "execution_count": null,
      "outputs": [
        {
          "output_type": "display_data",
          "data": {
            "text/plain": [
              "<Figure size 432x432 with 2 Axes>"
            ],
            "image/png": "[encoded data removed]"
          },
          "metadata": {
            "needs_background": "light"
          }
        }
      ]
    },
    {
      "cell_type": "code",
      "source": [],
      "metadata": {
        "id": "KV-bDfCD6qCY"
      },
      "execution_count": null,
      "outputs": []
    },
    {
      "cell_type": "code",
      "source": [
        "# ------------------------------------------- Logistic Regression Model from scratch without library function use -------------------------------------------\n",
        "print('############## Logistic Regression Model from scratch without library function use ##############\\n')\n"
      ],
      "metadata": {
        "colab": {
          "base_uri": "https://localhost:8080/"
        },
        "id": "o9BEmz_0d5QY",
        "outputId": "b074eede-a39f-4215-f6b3-9225aa284d41"
      },
      "execution_count": null,
      "outputs": [
        {
          "output_type": "stream",
          "name": "stdout",
          "text": [
            "############## Logistic Regression Model from scratch without library function use ##############\n",
            "\n"
          ]
        }
      ]
    },
    {
      "cell_type": "code",
      "source": [
        "# Add bias/intercept column in LR equation\n",
        "tmp = [1] * len(rain_norm)\n",
        "rain_norm['Bias'] = tmp\n",
        "\n",
        "# Making a copy of data to be used in LR model\n",
        "x_ogs = np.array(rain_norm.copy())\n",
        "y_ogs = np.array(df_tar.copy())\n",
        "y_ogs = y_ogs.reshape(len(y_ogs),)\n",
        "print(x_ogs.shape)\n",
        "print(y_ogs.shape)"
      ],
      "metadata": {
        "colab": {
          "base_uri": "https://localhost:8080/"
        },
        "id": "aNKUW_PT6wqB",
        "outputId": "148a73e8-1657-4476-88b0-10f695eeb613"
      },
      "execution_count": null,
      "outputs": [
        {
          "output_type": "stream",
          "name": "stdout",
          "text": [
            "(140787, 7)\n",
            "(140787,)\n"
          ]
        }
      ]
    },
    {
      "cell_type": "code",
      "source": [
        "# split dataset into training test samples: training - 70%; validation - 30%\n",
        "x_train, x_val, y_train, y_val = train_test_split(x_ogs, y_ogs, test_size=(30/100), random_state = seed)\n",
        "print('Data size:',len(x_ogs))\n",
        "print('Train data size:',len(x_train))\n",
        "print('Validation data size:',len(x_val))"
      ],
      "metadata": {
        "id": "7XA3RuXV65os",
        "colab": {
          "base_uri": "https://localhost:8080/"
        },
        "outputId": "3fde7c47-02a1-407c-eb42-b24b2c04a33a"
      },
      "execution_count": null,
      "outputs": [
        {
          "output_type": "stream",
          "name": "stdout",
          "text": [
            "Data size: 140787\n",
            "Train data size: 98550\n",
            "Validation data size: 42237\n"
          ]
        }
      ]
    },
    {
      "cell_type": "code",
      "source": [
        "# initializing weight/beta coeff array\n",
        "tmp = [0] * (7)\n",
        "wt = np.array([tmp])\n",
        "print('Weight array:',wt)\n",
        "\n",
        "# Set number of iterations\n",
        "iteration = 9000\n",
        "print('Iterations: ',iteration)\n",
        "\n",
        "# Set learning rate\n",
        "lr = 0.03  \n",
        "print('Learning rate: ',lr)"
      ],
      "metadata": {
        "colab": {
          "base_uri": "https://localhost:8080/"
        },
        "id": "qsJPMnI6-0Kf",
        "outputId": "ae9f085d-d347-4bde-a688-4bcd3070173f"
      },
      "execution_count": null,
      "outputs": [
        {
          "output_type": "stream",
          "name": "stdout",
          "text": [
            "Weight array: [[0 0 0 0 0 0 0]]\n",
            "Iterations:  9000\n",
            "Learning rate:  0.03\n"
          ]
        }
      ]
    },
    {
      "cell_type": "code",
      "source": [
        "#hypothesis/prediction function\n",
        "def prediction(feature, wt):\n",
        "    feature = feature.transpose()\n",
        "    z = np.dot(wt, feature)\n",
        "    return 1.0 / (1 + np.exp(-z))\n",
        "\n",
        "\n",
        "#Cost function\n",
        "def cost(pred, real):\n",
        "    c = (np.dot(np.log(pred), real) + np.dot(np.log(1-pred), (1-real)))/(-len(pred))\n",
        "    return (c)   \n",
        "\n",
        "\n",
        "#gradient descent function\n",
        "def grad(w, lr, real, pred, feat):\n",
        "    global wt\n",
        "    real = real.transpose()\n",
        "    gradient = (np.dot((pred - real),feat))/len(real)\n",
        "    \n",
        "    #adjusting weight\n",
        "    wt = w - (lr * gradient)\n",
        "   \n",
        "#cost array\n",
        "cst1 = []\n",
        "cst2 = []\n",
        "\n",
        "#accuracy array\n",
        "act = []  #train\n",
        "acv = []  #val\n",
        "\n",
        "#accuracy function\n",
        "def accuracy(features, real):\n",
        "    tt = prediction(features, wt)\n",
        "    acc = ((np.where(tt >= 0.5, 1, 0) == real).sum())/len(real) \n",
        "    return acc\n",
        "   "
      ],
      "metadata": {
        "id": "zkxHJJGP_Voe"
      },
      "execution_count": null,
      "outputs": []
    },
    {
      "cell_type": "code",
      "source": [
        "\n",
        "# Training the model\n",
        "# Takes around 5 minutes for 10k iterations\n",
        "\n",
        "st = time.time()\n",
        "\n",
        "for i in tqdm(range(iteration)):\n",
        "    h_train = prediction(x_train, wt)\n",
        "    h_val = prediction(x_val, wt)\n",
        "    grad(wt, lr, y_train, h_train, x_train)\n",
        "    cst1.append(cost(h_train, y_train))\n",
        "    cst2.append(cost(h_val, y_val))\n",
        "    act.append(accuracy(x_train, y_train))\n",
        "    acv.append(accuracy(x_val, y_val))\n",
        "\n",
        "end = time.time()\n",
        "diff = end-st\n",
        "print('\\ntime: ', round(diff,2),'sec')"
      ],
      "metadata": {
        "colab": {
          "base_uri": "https://localhost:8080/"
        },
        "id": "WD94DWJSx0D_",
        "outputId": "795aa389-8955-4d1f-b27a-26f6977d9fa4"
      },
      "execution_count": null,
      "outputs": [
        {
          "output_type": "stream",
          "name": "stderr",
          "text": [
            "100%|██████████| 9000/9000 [05:21<00:00, 28.01it/s]"
          ]
        },
        {
          "output_type": "stream",
          "name": "stdout",
          "text": [
            "\n",
            "time:  321.27 sec\n"
          ]
        },
        {
          "output_type": "stream",
          "name": "stderr",
          "text": [
            "\n"
          ]
        }
      ]
    },
    {
      "cell_type": "code",
      "source": [
        "\n",
        "#calling accuracy function to get accuracy    \n",
        "train_acc = accuracy(x_train, y_train)\n",
        "train_acc = round((train_acc * 100),2)\n",
        "print('\\nTraining data accuracy: ',train_acc)\n",
        "\n",
        "val_acc = accuracy(x_val, y_val)\n",
        "val_acc = round((val_acc * 100),2)\n",
        "print('\\nValidation data accuracy: ',val_acc)\n"
      ],
      "metadata": {
        "colab": {
          "base_uri": "https://localhost:8080/"
        },
        "id": "gd14rUN3iw7B",
        "outputId": "4e803a33-e747-445c-bc5b-e492870896d4"
      },
      "execution_count": null,
      "outputs": [
        {
          "output_type": "stream",
          "name": "stdout",
          "text": [
            "\n",
            "Training data accuracy:  83.14\n",
            "\n",
            "Validation data accuracy:  83.31\n"
          ]
        }
      ]
    },
    {
      "cell_type": "code",
      "source": [
        "\n",
        "#cost function plot\n",
        "#print('\\nCost function progress:\\n')\n",
        "plt.figure(figsize=(9, 6))\n",
        "plt.plot(np.arange(iteration), cst1 , label ='training', linewidth = 2)\n",
        "plt.plot(np.arange(iteration), cst2, label = 'validation',  linewidth = 2)\n",
        "plt.xlabel('Iteration', size=20)\n",
        "plt.ylabel('Cost', size=20)\n",
        "plt.legend(loc='upper right')\n",
        "plt.grid()\n",
        "plt.show(block=False)\n",
        "plt.pause(7)\n",
        "plt.close()\n",
        "\n",
        "#Accuracy function plot\n",
        "print('\\n')\n",
        "plt.figure(figsize=(9, 6))\n",
        "plt.plot(np.arange(iteration), act , label ='training', linewidth = 2)\n",
        "plt.plot(np.arange(iteration), acv, label = 'validation', linewidth = 2)\n",
        "plt.xlabel('Iteration', size=20)\n",
        "plt.ylabel('Accuracy', size=20)\n",
        "plt.legend(loc='lower right')\n",
        "plt.grid()\n",
        "plt.show(block=False)\n",
        "plt.pause(7)\n",
        "plt.close()\n",
        "\n",
        "\n",
        "\n",
        "print('\\nTraining data accuracy: ',train_acc)\n",
        "print('\\nValidation data accuracy: ',val_acc)"
      ],
      "metadata": {
        "colab": {
          "base_uri": "https://localhost:8080/",
          "height": 881
        },
        "id": "f_wd7SdyDK4E",
        "outputId": "7b99a54a-d540-42ee-e376-137b156caf05"
      },
      "execution_count": null,
      "outputs": [
        {
          "output_type": "display_data",
          "data": {
            "text/plain": [
              "<Figure size 648x432 with 1 Axes>"
            ],
            "image/png": "[encoded data removed]"
          },
          "metadata": {
            "needs_background": "light"
          }
        },
        {
          "output_type": "stream",
          "name": "stdout",
          "text": [
            "\n",
            "\n"
          ]
        },
        {
          "output_type": "display_data",
          "data": {
            "text/plain": [
              "<Figure size 648x432 with 1 Axes>"
            ],
            "image/png": "[encoded data removed]"
          },
          "metadata": {
            "needs_background": "light"
          }
        },
        {
          "output_type": "stream",
          "name": "stdout",
          "text": [
            "\n",
            "Training data accuracy:  83.14\n",
            "\n",
            "Validation data accuracy:  83.31\n"
          ]
        }
      ]
    },
    {
      "cell_type": "code",
      "source": [
        "# Making confusion matrix\n",
        "predictions = np.where(prediction(x_val, wt) >= 0.5, 1, 0)\n",
        "cm = metrics.confusion_matrix(y_val, predictions[0])\n",
        "\n",
        "plt.figure(figsize=(6,6))\n",
        "sns.heatmap(cm, annot=True, fmt=\".3f\", linewidths=1, square = True, cmap = 'Greens_r' );\n",
        "plt.ylabel('Actual label',size=15);\n",
        "plt.xlabel('Predicted label',size=15);\n",
        "all_sample_title = 'Accuracy Score: {0}'.format(val_acc)\n",
        "plt.title(all_sample_title, size = 15);"
      ],
      "metadata": {
        "colab": {
          "base_uri": "https://localhost:8080/",
          "height": 364
        },
        "id": "hncXgbcrDLv5",
        "outputId": "93f2c453-48b7-4412-dedf-04eadd51380e"
      },
      "execution_count": null,
      "outputs": [
        {
          "output_type": "display_data",
          "data": {
            "text/plain": [
              "<Figure size 432x432 with 2 Axes>"
            ],
            "image/png": "[encoded data removed]"
          },
          "metadata": {
            "needs_background": "light"
          }
        }
      ]
    },
    {
      "cell_type": "code",
      "source": [
        "# Display beta coefficient or weight of features\n",
        "weight = ['Humidity3pm', 'Sunshine', 'Pressure3pm', 'Cloud3pm', 'Pressure9am', 'WindGustSpeed']\n",
        "for i in range(len(weight)):\n",
        "  print(weight[i],':',round(wt[0][i],2))"
      ],
      "metadata": {
        "colab": {
          "base_uri": "https://localhost:8080/"
        },
        "id": "j17ibeJ2ss73",
        "outputId": "c718c51c-16db-4fd5-d3e5-144bdb20a940"
      },
      "execution_count": null,
      "outputs": [
        {
          "output_type": "stream",
          "name": "stdout",
          "text": [
            "Humidity3pm : 2.51\n",
            "Sunshine : -3.51\n",
            "Pressure3pm : -1.89\n",
            "Cloud3pm : 2.22\n",
            "Pressure9am : -1.96\n",
            "WindGustSpeed : 0.86\n"
          ]
        }
      ]
    },
    {
      "cell_type": "code",
      "source": [
        " "
      ],
      "metadata": {
        "id": "v7sTpfdkEdeL"
      },
      "execution_count": null,
      "outputs": []
    }
  ]
}